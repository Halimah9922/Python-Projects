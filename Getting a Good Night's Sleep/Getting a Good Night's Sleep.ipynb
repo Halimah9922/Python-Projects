{
 "cells": [
  {
   "cell_type": "markdown",
   "id": "f23714b3-18b6-4f79-9567-189d2c11c959",
   "metadata": {},
   "source": [
    "# Project: Getting a Good Night's Sleep"
   ]
  },
  {
   "cell_type": "markdown",
   "id": "fe7ecb8d-ad0b-40c0-b404-8b4c339d1c8b",
   "metadata": {},
   "source": [
    "![insomnia](insomnia.jpg)\n"
   ]
  },
  {
   "cell_type": "markdown",
   "id": "04929432-e076-40ef-b2a7-8e67dc7ba1a3",
   "metadata": {},
   "source": [
    "\n",
    "## 💾 The data: sleep_health_data.csv\n",
    "The data is saved as `sleep_health_data.csv`.\n",
    "\n",
    "The dataset includes 13 columns covering sleep duration, quality, disorders, exercise, stress, diet, demographics, and other factors related to sleep health. \n",
    "\n",
    "| Column | Description |\n",
    "|---------|----------------------------------------|  \n",
    "| `Person ID` | An identifier for each individual. |\n",
    "| `Gender` | The gender of the person (Male/Female). |  \n",
    "| `Age` | The age of the person in years. |\n",
    "| `Occupation` | The occupation or profession of the person. |\n",
    "| `Sleep Duration (hours)` | The average number of hours the person sleeps per day. |\n",
    "| `Quality of Sleep (scale: 1-10)` | A subjective rating of the quality of sleep, ranging from 1 to 10. |\n",
    "| `Physical Activity Level (minutes/day)` | The average number of minutes the person engages in physical activity daily. |  \n",
    "| `Stress Level (scale: 1-10)` | A subjective rating of the stress level experienced by the person, ranging from 1 to 10. |\n",
    "| `BMI Category` | The BMI category of the person (e.g., Underweight, Normal, Overweight). |\n",
    "| `Blood Pressure (systolic/diastolic)` | The average blood pressure measurement of the person, indicated as systolic pressure over diastolic pressure. |\n",
    "| `Heart Rate (bpm)` | The average resting heart rate of the person in beats per minute. |\n",
    "| `Daily Steps` | The average number of steps the person takes per day. |\n",
    "| `Sleep Disorder` | The presence or absence of a sleep disorder in the person (None, Insomnia, Sleep Apnea). |"
   ]
  },
  {
   "cell_type": "code",
   "execution_count": 4,
   "id": "a622f61f-54d5-468a-83b6-41f0ff404278",
   "metadata": {
    "executionCancelledAt": null,
    "executionTime": 12,
    "lastExecutedAt": 1729460882572,
    "lastExecutedByKernel": "08010997-7a35-424d-b940-c7180ccd476c",
    "lastScheduledRunId": null,
    "lastSuccessfullyExecutedCode": "# Start coding here\n# Use as many cells as you need\nimport numpy as np\nimport pandas as pd\nimport matplotlib.pyplot as plt\nimport seaborn as sns"
   },
   "outputs": [],
   "source": [
    "# Start coding here\n",
    "# Use as many cells as you need\n",
    "import numpy as np\n",
    "import pandas as pd\n",
    "import matplotlib.pyplot as plt\n",
    "import seaborn as sns"
   ]
  },
  {
   "cell_type": "code",
   "execution_count": 5,
   "id": "e40a1cfb-19c6-4976-9c36-9f356af29077",
   "metadata": {
    "executionCancelledAt": null,
    "executionTime": 50,
    "lastExecutedAt": 1729460882622,
    "lastExecutedByKernel": "08010997-7a35-424d-b940-c7180ccd476c",
    "lastScheduledRunId": null,
    "lastSuccessfullyExecutedCode": "sleep_df = pd.read_csv('sleep_health_data.csv')"
   },
   "outputs": [],
   "source": [
    "sleep_df = pd.read_csv('sleep_health_data.csv')"
   ]
  },
  {
   "cell_type": "code",
   "execution_count": 6,
   "id": "5fcb610e-e873-4888-bf44-4f5e9e6a44e6",
   "metadata": {
    "executionCancelledAt": null,
    "executionTime": 82,
    "lastExecutedAt": 1729460882704,
    "lastExecutedByKernel": "08010997-7a35-424d-b940-c7180ccd476c",
    "lastScheduledRunId": null,
    "lastSuccessfullyExecutedCode": "sleep_df",
    "outputsMetadata": {
     "0": {
      "height": 543,
      "type": "dataFrame"
     }
    }
   },
   "outputs": [
    {
     "data": {
      "text/html": [
       "<div>\n",
       "<style scoped>\n",
       "    .dataframe tbody tr th:only-of-type {\n",
       "        vertical-align: middle;\n",
       "    }\n",
       "\n",
       "    .dataframe tbody tr th {\n",
       "        vertical-align: top;\n",
       "    }\n",
       "\n",
       "    .dataframe thead th {\n",
       "        text-align: right;\n",
       "    }\n",
       "</style>\n",
       "<table border=\"1\" class=\"dataframe\">\n",
       "  <thead>\n",
       "    <tr style=\"text-align: right;\">\n",
       "      <th></th>\n",
       "      <th>Person ID</th>\n",
       "      <th>Gender</th>\n",
       "      <th>Age</th>\n",
       "      <th>Occupation</th>\n",
       "      <th>Sleep Duration</th>\n",
       "      <th>Quality of Sleep</th>\n",
       "      <th>Physical Activity Level</th>\n",
       "      <th>Stress Level</th>\n",
       "      <th>BMI Category</th>\n",
       "      <th>Blood Pressure</th>\n",
       "      <th>Heart Rate</th>\n",
       "      <th>Daily Steps</th>\n",
       "      <th>Sleep Disorder</th>\n",
       "    </tr>\n",
       "  </thead>\n",
       "  <tbody>\n",
       "    <tr>\n",
       "      <th>0</th>\n",
       "      <td>1</td>\n",
       "      <td>Male</td>\n",
       "      <td>27</td>\n",
       "      <td>Software Engineer</td>\n",
       "      <td>6.1</td>\n",
       "      <td>6</td>\n",
       "      <td>42</td>\n",
       "      <td>6</td>\n",
       "      <td>Overweight</td>\n",
       "      <td>126/83</td>\n",
       "      <td>77</td>\n",
       "      <td>4200</td>\n",
       "      <td>NaN</td>\n",
       "    </tr>\n",
       "    <tr>\n",
       "      <th>1</th>\n",
       "      <td>2</td>\n",
       "      <td>Male</td>\n",
       "      <td>28</td>\n",
       "      <td>Doctor</td>\n",
       "      <td>6.2</td>\n",
       "      <td>6</td>\n",
       "      <td>60</td>\n",
       "      <td>8</td>\n",
       "      <td>Normal</td>\n",
       "      <td>125/80</td>\n",
       "      <td>75</td>\n",
       "      <td>10000</td>\n",
       "      <td>NaN</td>\n",
       "    </tr>\n",
       "    <tr>\n",
       "      <th>2</th>\n",
       "      <td>3</td>\n",
       "      <td>Male</td>\n",
       "      <td>28</td>\n",
       "      <td>Doctor</td>\n",
       "      <td>6.2</td>\n",
       "      <td>6</td>\n",
       "      <td>60</td>\n",
       "      <td>8</td>\n",
       "      <td>Normal</td>\n",
       "      <td>125/80</td>\n",
       "      <td>75</td>\n",
       "      <td>10000</td>\n",
       "      <td>NaN</td>\n",
       "    </tr>\n",
       "    <tr>\n",
       "      <th>3</th>\n",
       "      <td>4</td>\n",
       "      <td>Male</td>\n",
       "      <td>28</td>\n",
       "      <td>Sales Representative</td>\n",
       "      <td>5.9</td>\n",
       "      <td>4</td>\n",
       "      <td>30</td>\n",
       "      <td>8</td>\n",
       "      <td>Obese</td>\n",
       "      <td>140/90</td>\n",
       "      <td>85</td>\n",
       "      <td>3000</td>\n",
       "      <td>Sleep Apnea</td>\n",
       "    </tr>\n",
       "    <tr>\n",
       "      <th>4</th>\n",
       "      <td>5</td>\n",
       "      <td>Male</td>\n",
       "      <td>28</td>\n",
       "      <td>Sales Representative</td>\n",
       "      <td>5.9</td>\n",
       "      <td>4</td>\n",
       "      <td>30</td>\n",
       "      <td>8</td>\n",
       "      <td>Obese</td>\n",
       "      <td>140/90</td>\n",
       "      <td>85</td>\n",
       "      <td>3000</td>\n",
       "      <td>Sleep Apnea</td>\n",
       "    </tr>\n",
       "    <tr>\n",
       "      <th>...</th>\n",
       "      <td>...</td>\n",
       "      <td>...</td>\n",
       "      <td>...</td>\n",
       "      <td>...</td>\n",
       "      <td>...</td>\n",
       "      <td>...</td>\n",
       "      <td>...</td>\n",
       "      <td>...</td>\n",
       "      <td>...</td>\n",
       "      <td>...</td>\n",
       "      <td>...</td>\n",
       "      <td>...</td>\n",
       "      <td>...</td>\n",
       "    </tr>\n",
       "    <tr>\n",
       "      <th>369</th>\n",
       "      <td>370</td>\n",
       "      <td>Female</td>\n",
       "      <td>59</td>\n",
       "      <td>Nurse</td>\n",
       "      <td>8.1</td>\n",
       "      <td>9</td>\n",
       "      <td>75</td>\n",
       "      <td>3</td>\n",
       "      <td>Overweight</td>\n",
       "      <td>140/95</td>\n",
       "      <td>68</td>\n",
       "      <td>7000</td>\n",
       "      <td>Sleep Apnea</td>\n",
       "    </tr>\n",
       "    <tr>\n",
       "      <th>370</th>\n",
       "      <td>371</td>\n",
       "      <td>Female</td>\n",
       "      <td>59</td>\n",
       "      <td>Nurse</td>\n",
       "      <td>8.0</td>\n",
       "      <td>9</td>\n",
       "      <td>75</td>\n",
       "      <td>3</td>\n",
       "      <td>Overweight</td>\n",
       "      <td>140/95</td>\n",
       "      <td>68</td>\n",
       "      <td>7000</td>\n",
       "      <td>Sleep Apnea</td>\n",
       "    </tr>\n",
       "    <tr>\n",
       "      <th>371</th>\n",
       "      <td>372</td>\n",
       "      <td>Female</td>\n",
       "      <td>59</td>\n",
       "      <td>Nurse</td>\n",
       "      <td>8.1</td>\n",
       "      <td>9</td>\n",
       "      <td>75</td>\n",
       "      <td>3</td>\n",
       "      <td>Overweight</td>\n",
       "      <td>140/95</td>\n",
       "      <td>68</td>\n",
       "      <td>7000</td>\n",
       "      <td>Sleep Apnea</td>\n",
       "    </tr>\n",
       "    <tr>\n",
       "      <th>372</th>\n",
       "      <td>373</td>\n",
       "      <td>Female</td>\n",
       "      <td>59</td>\n",
       "      <td>Nurse</td>\n",
       "      <td>8.1</td>\n",
       "      <td>9</td>\n",
       "      <td>75</td>\n",
       "      <td>3</td>\n",
       "      <td>Overweight</td>\n",
       "      <td>140/95</td>\n",
       "      <td>68</td>\n",
       "      <td>7000</td>\n",
       "      <td>Sleep Apnea</td>\n",
       "    </tr>\n",
       "    <tr>\n",
       "      <th>373</th>\n",
       "      <td>374</td>\n",
       "      <td>Female</td>\n",
       "      <td>59</td>\n",
       "      <td>Nurse</td>\n",
       "      <td>8.1</td>\n",
       "      <td>9</td>\n",
       "      <td>75</td>\n",
       "      <td>3</td>\n",
       "      <td>Overweight</td>\n",
       "      <td>140/95</td>\n",
       "      <td>68</td>\n",
       "      <td>7000</td>\n",
       "      <td>Sleep Apnea</td>\n",
       "    </tr>\n",
       "  </tbody>\n",
       "</table>\n",
       "<p>374 rows × 13 columns</p>\n",
       "</div>"
      ],
      "text/plain": [
       "     Person ID  Gender  Age            Occupation  Sleep Duration  \\\n",
       "0            1    Male   27     Software Engineer             6.1   \n",
       "1            2    Male   28                Doctor             6.2   \n",
       "2            3    Male   28                Doctor             6.2   \n",
       "3            4    Male   28  Sales Representative             5.9   \n",
       "4            5    Male   28  Sales Representative             5.9   \n",
       "..         ...     ...  ...                   ...             ...   \n",
       "369        370  Female   59                 Nurse             8.1   \n",
       "370        371  Female   59                 Nurse             8.0   \n",
       "371        372  Female   59                 Nurse             8.1   \n",
       "372        373  Female   59                 Nurse             8.1   \n",
       "373        374  Female   59                 Nurse             8.1   \n",
       "\n",
       "     Quality of Sleep  Physical Activity Level  Stress Level BMI Category  \\\n",
       "0                   6                       42             6   Overweight   \n",
       "1                   6                       60             8       Normal   \n",
       "2                   6                       60             8       Normal   \n",
       "3                   4                       30             8        Obese   \n",
       "4                   4                       30             8        Obese   \n",
       "..                ...                      ...           ...          ...   \n",
       "369                 9                       75             3   Overweight   \n",
       "370                 9                       75             3   Overweight   \n",
       "371                 9                       75             3   Overweight   \n",
       "372                 9                       75             3   Overweight   \n",
       "373                 9                       75             3   Overweight   \n",
       "\n",
       "    Blood Pressure  Heart Rate  Daily Steps Sleep Disorder  \n",
       "0           126/83          77         4200            NaN  \n",
       "1           125/80          75        10000            NaN  \n",
       "2           125/80          75        10000            NaN  \n",
       "3           140/90          85         3000    Sleep Apnea  \n",
       "4           140/90          85         3000    Sleep Apnea  \n",
       "..             ...         ...          ...            ...  \n",
       "369         140/95          68         7000    Sleep Apnea  \n",
       "370         140/95          68         7000    Sleep Apnea  \n",
       "371         140/95          68         7000    Sleep Apnea  \n",
       "372         140/95          68         7000    Sleep Apnea  \n",
       "373         140/95          68         7000    Sleep Apnea  \n",
       "\n",
       "[374 rows x 13 columns]"
      ]
     },
     "execution_count": 6,
     "metadata": {},
     "output_type": "execute_result"
    }
   ],
   "source": [
    "sleep_df"
   ]
  },
  {
   "cell_type": "code",
   "execution_count": 10,
   "id": "60aa65e2-4e0f-409c-8554-b363d2f137ef",
   "metadata": {
    "executionCancelledAt": null,
    "executionTime": 56,
    "lastExecutedAt": 1729460882760,
    "lastExecutedByKernel": "08010997-7a35-424d-b940-c7180ccd476c",
    "lastScheduledRunId": null,
    "lastSuccessfullyExecutedCode": "sleep_df.info()",
    "outputsMetadata": {
     "0": {
      "height": 437,
      "type": "stream"
     }
    }
   },
   "outputs": [
    {
     "name": "stdout",
     "output_type": "stream",
     "text": [
      "<class 'pandas.core.frame.DataFrame'>\n",
      "RangeIndex: 374 entries, 0 to 373\n",
      "Data columns (total 13 columns):\n",
      " #   Column                   Non-Null Count  Dtype  \n",
      "---  ------                   --------------  -----  \n",
      " 0   Person ID                374 non-null    int64  \n",
      " 1   Gender                   374 non-null    object \n",
      " 2   Age                      374 non-null    int64  \n",
      " 3   Occupation               374 non-null    object \n",
      " 4   Sleep Duration           374 non-null    float64\n",
      " 5   Quality of Sleep         374 non-null    int64  \n",
      " 6   Physical Activity Level  374 non-null    int64  \n",
      " 7   Stress Level             374 non-null    int64  \n",
      " 8   BMI Category             374 non-null    object \n",
      " 9   Blood Pressure           374 non-null    object \n",
      " 10  Heart Rate               374 non-null    int64  \n",
      " 11  Daily Steps              374 non-null    int64  \n",
      " 12  Sleep Disorder           155 non-null    object \n",
      "dtypes: float64(1), int64(7), object(5)\n",
      "memory usage: 38.1+ KB\n"
     ]
    }
   ],
   "source": [
    "sleep_df.info()"
   ]
  },
  {
   "cell_type": "code",
   "execution_count": 12,
   "id": "c612b143-707d-4333-bab6-95c4f88b4161",
   "metadata": {
    "executionCancelledAt": null,
    "executionTime": 52,
    "lastExecutedAt": 1729460882812,
    "lastExecutedByKernel": "08010997-7a35-424d-b940-c7180ccd476c",
    "lastScheduledRunId": null,
    "lastSuccessfullyExecutedCode": "sleep_duration = sleep_df.groupby('Occupation')['Sleep Duration'].mean().reset_index()"
   },
   "outputs": [],
   "source": [
    "sleep_duration = sleep_df.groupby('Occupation')['Sleep Duration'].mean().reset_index()"
   ]
  },
  {
   "cell_type": "code",
   "execution_count": 14,
   "id": "980c2199-a7ba-4b1f-9264-5e21d1b82635",
   "metadata": {
    "executionCancelledAt": null,
    "executionTime": 52,
    "lastExecutedAt": 1729460882864,
    "lastExecutedByKernel": "08010997-7a35-424d-b940-c7180ccd476c",
    "lastScheduledRunId": null,
    "lastSuccessfullyExecutedCode": "# Find the occupation with the lowest average sleep duration\nlowest_sleep_occ = sleep_duration.sort_values(by='Sleep Duration').iloc[0]['Occupation']"
   },
   "outputs": [],
   "source": [
    "# Find the occupation with the lowest average sleep duration\n",
    "lowest_sleep_occ = sleep_duration.sort_values(by='Sleep Duration').iloc[0]['Occupation']"
   ]
  },
  {
   "cell_type": "code",
   "execution_count": 34,
   "id": "bcff1f0b-032d-4349-9727-1d3918f365f6",
   "metadata": {},
   "outputs": [
    {
     "data": {
      "text/plain": [
       "'Sales Representative'"
      ]
     },
     "execution_count": 34,
     "metadata": {},
     "output_type": "execute_result"
    }
   ],
   "source": [
    "lowest_sleep_occ"
   ]
  },
  {
   "cell_type": "code",
   "execution_count": 36,
   "id": "78abd85b-f8c2-4564-9d6d-ad19b1c5b760",
   "metadata": {
    "executionCancelledAt": null,
    "executionTime": 51,
    "lastExecutedAt": 1729460882916,
    "lastExecutedByKernel": "08010997-7a35-424d-b940-c7180ccd476c",
    "lastScheduledRunId": null,
    "lastSuccessfullyExecutedCode": "sleep_quality = sleep_df.groupby('Occupation')['Quality of Sleep'].mean().reset_index()"
   },
   "outputs": [],
   "source": [
    "sleep_quality = sleep_df.groupby('Occupation')['Quality of Sleep'].mean().reset_index()"
   ]
  },
  {
   "cell_type": "code",
   "execution_count": 38,
   "id": "b38273e6-af48-4855-b7f6-17ad346386c6",
   "metadata": {
    "executionCancelledAt": null,
    "executionTime": 52,
    "lastExecutedAt": 1729460882968,
    "lastExecutedByKernel": "08010997-7a35-424d-b940-c7180ccd476c",
    "lastScheduledRunId": null,
    "lastSuccessfullyExecutedCode": "# Find the occupation with the lowest sleep quality\nlowest_sleep_quality_occ = sleep_quality.sort_values(by='Quality of Sleep').iloc[0]['Occupation']"
   },
   "outputs": [],
   "source": [
    "# Find the occupation with the lowest sleep quality\n",
    "lowest_sleep_quality_occ = sleep_quality.sort_values(by='Quality of Sleep').iloc[0]['Occupation']"
   ]
  },
  {
   "cell_type": "code",
   "execution_count": 40,
   "id": "e43bcfb2-bfec-41f4-87d8-ce9fea41e9ee",
   "metadata": {},
   "outputs": [
    {
     "data": {
      "text/plain": [
       "'Sales Representative'"
      ]
     },
     "execution_count": 40,
     "metadata": {},
     "output_type": "execute_result"
    }
   ],
   "source": [
    "lowest_sleep_quality_occ"
   ]
  },
  {
   "cell_type": "code",
   "execution_count": 20,
   "id": "dcf22949-f75f-48ad-b4f7-651b1617402c",
   "metadata": {
    "executionCancelledAt": null,
    "executionTime": 52,
    "lastExecutedAt": 1729460883020,
    "lastExecutedByKernel": "08010997-7a35-424d-b940-c7180ccd476c",
    "lastScheduledRunId": null,
    "lastSuccessfullyExecutedCode": "if lowest_sleep_occ == lowest_sleep_quality_occ:\n    same_occ = True\nelse:\n    same_occ = False\n    \nprint(\"Are the same occupations:\", same_occ)",
    "outputsMetadata": {
     "0": {
      "height": 38,
      "type": "stream"
     }
    }
   },
   "outputs": [
    {
     "name": "stdout",
     "output_type": "stream",
     "text": [
      "Are the same occupations: True\n"
     ]
    }
   ],
   "source": [
    "if lowest_sleep_occ == lowest_sleep_quality_occ:\n",
    "    same_occ = True\n",
    "else:\n",
    "    same_occ = False\n",
    "    \n",
    "print(\"Are the same occupations:\", same_occ)"
   ]
  },
  {
   "cell_type": "code",
   "execution_count": 22,
   "id": "253681f1-192c-4657-bb0d-28a4b767950f",
   "metadata": {
    "executionCancelledAt": null,
    "executionTime": 52,
    "lastExecutedAt": 1729460883072,
    "lastExecutedByKernel": "08010997-7a35-424d-b940-c7180ccd476c",
    "lastScheduledRunId": null,
    "lastSuccessfullyExecutedCode": "#Normal\n#Filter the full dataframe to only rows where BMI category is Normal and Sleep Disorder is Insomnia.\n\nnormal = sleep_df[(sleep_df[\"BMI Category\"] == \"Normal\") & (sleep_df[\"Sleep Disorder\"] == \"Insomnia\")]\nnormal2 = sleep_df[(sleep_df[\"BMI Category\"] == \"Normal Weight\") & (sleep_df[\"Sleep Disorder\"] == \"Insomnia\")]"
   },
   "outputs": [],
   "source": [
    "#Normal\n",
    "#Filter the full dataframe to only rows where BMI category is Normal and Sleep Disorder is Insomnia.\n",
    "\n",
    "normal = sleep_df[(sleep_df[\"BMI Category\"] == \"Normal\") & (sleep_df[\"Sleep Disorder\"] == \"Insomnia\")]\n",
    "normal2 = sleep_df[(sleep_df[\"BMI Category\"] == \"Normal Weight\") & (sleep_df[\"Sleep Disorder\"] == \"Insomnia\")]"
   ]
  },
  {
   "cell_type": "code",
   "execution_count": 24,
   "id": "9bf3025a-016d-4414-9aa1-b3c69f30df70",
   "metadata": {
    "executionCancelledAt": null,
    "executionTime": 48,
    "lastExecutedAt": 1729460883120,
    "lastExecutedByKernel": "08010997-7a35-424d-b940-c7180ccd476c",
    "lastScheduledRunId": null,
    "lastSuccessfullyExecutedCode": "#Total normal rows\ntotal_normal = len(sleep_df[sleep_df[\"BMI Category\"] == \"Normal\"])"
   },
   "outputs": [],
   "source": [
    "#Total normal rows\n",
    "total_normal = len(sleep_df[sleep_df[\"BMI Category\"] == \"Normal\"])"
   ]
  },
  {
   "cell_type": "code",
   "execution_count": 26,
   "id": "700a3ec7-882b-431a-bb49-e6e4d0e2b66e",
   "metadata": {
    "executionCancelledAt": null,
    "executionTime": 56,
    "lastExecutedAt": 1729460883176,
    "lastExecutedByKernel": "08010997-7a35-424d-b940-c7180ccd476c",
    "lastScheduledRunId": null,
    "lastSuccessfullyExecutedCode": "# Normal\n# Filter the full dataframe to only rows where BMI Category is Normal and Sleep Disorder is Insomnia.\nnormal = sleep_df[(sleep_df[\"BMI Category\"] == \"Normal\") &  \n                  (sleep_df[\"Sleep Disorder\"] == \"Insomnia\")]\nnormal2 = sleep_df[(sleep_df[\"BMI Category\"] == \"Normal Weight\") &  \n                  (sleep_df[\"Sleep Disorder\"] == \"Insomnia\")]\n# Total normal rows               \ntotal_normal = len(sleep_df[sleep_df[\"BMI Category\"] == \"Normal\"])  \n# Calculate normal insomnia ratio               \nnormal_insomnia_ratio = round(len(normal) / total_normal, 2) "
   },
   "outputs": [],
   "source": [
    "# Normal\n",
    "# Filter the full dataframe to only rows where BMI Category is Normal and Sleep Disorder is Insomnia.\n",
    "normal = sleep_df[(sleep_df[\"BMI Category\"] == \"Normal\") &  \n",
    "                  (sleep_df[\"Sleep Disorder\"] == \"Insomnia\")]\n",
    "normal2 = sleep_df[(sleep_df[\"BMI Category\"] == \"Normal Weight\") &  \n",
    "                  (sleep_df[\"Sleep Disorder\"] == \"Insomnia\")]\n",
    "# Total normal rows               \n",
    "total_normal = len(sleep_df[sleep_df[\"BMI Category\"] == \"Normal\"])  \n",
    "# Calculate normal insomnia ratio               \n",
    "normal_insomnia_ratio = round(len(normal) / total_normal, 2) "
   ]
  },
  {
   "cell_type": "code",
   "execution_count": 28,
   "id": "5f009dfc-f038-4b28-897e-3d03d2194bf2",
   "metadata": {
    "executionCancelledAt": null,
    "executionTime": 54,
    "lastExecutedAt": 1729460883231,
    "lastExecutedByKernel": "08010997-7a35-424d-b940-c7180ccd476c",
    "lastScheduledRunId": null,
    "lastSuccessfullyExecutedCode": "# Overweight\n# Filter the full dataframe to only rows where BMI Category is Overweight and Sleep Disorder is Insomnia.\noverweight = sleep_df[(sleep_df[\"BMI Category\"] == \"Overweight\") &   \n                      (sleep_df[\"Sleep Disorder\"] == \"Insomnia\")]  \n# Total overweight rows\ntotal_overweight = len(sleep_df[sleep_df[\"BMI Category\"] == \"Overweight\"])  \n# Calculate overweight insomnia ratio \noverweight_insomnia_ratio = round(len(overweight) / total_overweight, 2)"
   },
   "outputs": [],
   "source": [
    "# Overweight\n",
    "# Filter the full dataframe to only rows where BMI Category is Overweight and Sleep Disorder is Insomnia.\n",
    "overweight = sleep_df[(sleep_df[\"BMI Category\"] == \"Overweight\") &   \n",
    "                      (sleep_df[\"Sleep Disorder\"] == \"Insomnia\")]  \n",
    "# Total overweight rows\n",
    "total_overweight = len(sleep_df[sleep_df[\"BMI Category\"] == \"Overweight\"])  \n",
    "# Calculate overweight insomnia ratio \n",
    "overweight_insomnia_ratio = round(len(overweight) / total_overweight, 2)"
   ]
  },
  {
   "cell_type": "code",
   "execution_count": 30,
   "id": "d7f50a36-b980-4917-9174-d15368746b70",
   "metadata": {
    "executionCancelledAt": null,
    "executionTime": 56,
    "lastExecutedAt": 1729460883288,
    "lastExecutedByKernel": "08010997-7a35-424d-b940-c7180ccd476c",
    "lastScheduledRunId": null,
    "lastSuccessfullyExecutedCode": "# Obese\n# Filter the full dataframe to only rows where BMI Category is Obese and Sleep Disorder is Insomnia.\nobese = sleep_df[(sleep_df[\"BMI Category\"] == \"Obese\") &  \n                  (sleep_df[\"Sleep Disorder\"] == \"Insomnia\")]\n# Total obese rows          \ntotal_obese = len(sleep_df[sleep_df[\"BMI Category\"] == \"Obese\"])  \n# Calculate obese insomnia ratio\nobese_insomnia_ratio = round(len(obese) / total_obese, 2)"
   },
   "outputs": [],
   "source": [
    "# Obese\n",
    "# Filter the full dataframe to only rows where BMI Category is Obese and Sleep Disorder is Insomnia.\n",
    "obese = sleep_df[(sleep_df[\"BMI Category\"] == \"Obese\") &  \n",
    "                  (sleep_df[\"Sleep Disorder\"] == \"Insomnia\")]\n",
    "# Total obese rows          \n",
    "total_obese = len(sleep_df[sleep_df[\"BMI Category\"] == \"Obese\"])  \n",
    "# Calculate obese insomnia ratio\n",
    "obese_insomnia_ratio = round(len(obese) / total_obese, 2)"
   ]
  },
  {
   "cell_type": "code",
   "execution_count": 32,
   "id": "9b46b74c-b316-4cc4-8ca1-345c243779d7",
   "metadata": {
    "executionCancelledAt": null,
    "executionTime": 47,
    "lastExecutedAt": 1729460883336,
    "lastExecutedByKernel": "08010997-7a35-424d-b940-c7180ccd476c",
    "lastScheduledRunId": null,
    "lastSuccessfullyExecutedCode": "# Create dictionary to store the ratios for each BMI category \nbmi_insomnia_ratios = {\n    \"Normal\": normal_insomnia_ratio,  \n    \"Overweight\": overweight_insomnia_ratio,\n    \"Obese\": obese_insomnia_ratio \n}"
   },
   "outputs": [],
   "source": [
    "# Create dictionary to store the ratios for each BMI category \n",
    "bmi_insomnia_ratios = {\n",
    "    \"Normal\": normal_insomnia_ratio,  \n",
    "    \"Overweight\": overweight_insomnia_ratio,\n",
    "    \"Obese\": obese_insomnia_ratio \n",
    "}"
   ]
  }
 ],
 "metadata": {
  "colab": {
   "name": "Welcome to DataCamp Workspaces.ipynb",
   "provenance": []
  },
  "kernelspec": {
   "display_name": "Python 3 (ipykernel)",
   "language": "python",
   "name": "python3"
  },
  "language_info": {
   "codemirror_mode": {
    "name": "ipython",
    "version": 3
   },
   "file_extension": ".py",
   "mimetype": "text/x-python",
   "name": "python",
   "nbconvert_exporter": "python",
   "pygments_lexer": "ipython3",
   "version": "3.12.4"
  }
 },
 "nbformat": 4,
 "nbformat_minor": 5
}
