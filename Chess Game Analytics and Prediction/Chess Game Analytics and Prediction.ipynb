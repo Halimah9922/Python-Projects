{
 "cells": [
  {
   "cell_type": "markdown",
   "id": "48cca23c-c07c-4309-9f5c-1e7c3368201d",
   "metadata": {},
   "source": [
    "# Project Overview\n",
    "The project aims to develop predictive models for chess outcomes, specifically focusing on three key aspects:\n",
    "\n",
    "**Chess Move Prediction Model:** This model predicts the next best move in a chess game based on the current board position. It utilizes a classification approach to determine the most optimal move that can be made given the state of the game.\n",
    "\n",
    "**Endgame Outcome Prediction:** This model predicts the final outcome of a chess game (win, loss, or draw) based on the state of the board during the endgame phase. The model leverages classification techniques to assess the likelihood of each outcome based on the features extracted from the board position.\n",
    "\n",
    "**Win Probability Prediction:** This model estimates the probability of winning as the game progresses. It is framed as a regression problem, where the target variable represents the win probability, mapped from categorical outcomes (win, draw, loss) to continuous values.\n",
    "\n",
    "Each model is built using various machine learning techniques, including Random Forest and Gradient Boosting. The project employs techniques like hyperparameter tuning and cross-validation to enhance model performance and ensure robustness.\n",
    "\n",
    "**Data Source**\n",
    "The dataset used in this project is sourced from the UCI Machine Learning Repository, specifically the chess dataset titled \"Chess: King & Rook vs. King & Pawn\". This dataset includes information about various chess positions and the corresponding outcomes of the games.\n",
    "\n",
    "**Key attributes of the dataset include:**\n",
    "\n",
    "Features: These represent the various attributes of a chess position, such as the arrangement of pieces on the board and the player's turn.\n",
    "Target Variable: The outcome of the game, which is classified into categories such as \"win,\" \"loss,\" or \"draw.\"\n",
    "The dataset provides a rich foundation for training machine learning models to analyze chess strategies and predict outcomes based on historical game data. By leveraging this dataset, the project aims to enhance understanding of chess dynamics and improve decision-making processes in gameplay.\n",
    "\n",
    "The project combines data analysis, machine learning, and domain knowledge in chess to develop insightful predictive models that can aid players in improving their gameplay strategies."
   ]
  },
  {
   "cell_type": "code",
   "execution_count": 71,
   "id": "84306755-7793-4efe-857c-61d5bfd39826",
   "metadata": {},
   "outputs": [],
   "source": [
    "# Import libraries\n",
    "from ucimlrepo import fetch_ucirepo\n",
    "import pandas as pd\n",
    "import numpy as np\n",
    "from sklearn.model_selection import train_test_split, GridSearchCV, cross_val_score\n",
    "from sklearn.preprocessing import LabelEncoder\n",
    "from sklearn.ensemble import RandomForestClassifier, RandomForestRegressor, GradientBoostingClassifier\n",
    "from sklearn.metrics import classification_report, accuracy_score, mean_squared_error, mean_absolute_error, ConfusionMatrixDisplay\n",
    "from sklearn.metrics import accuracy_score, precision_score, recall_score, f1_score\n",
    "from sklearn.linear_model import LogisticRegression\n",
    "from sklearn.svm import SVC\n",
    "from imblearn.over_sampling import SMOTE\n",
    "import matplotlib.pyplot as plt\n",
    "import joblib\n",
    "import warnings\n",
    "\n",
    "# Suppress warnings\n",
    "warnings.filterwarnings(\"ignore\")"
   ]
  },
  {
   "cell_type": "code",
   "execution_count": 73,
   "id": "bcfab984-05a4-475e-a81c-1215b86ec3a7",
   "metadata": {},
   "outputs": [
    {
     "name": "stdout",
     "output_type": "stream",
     "text": [
      "{'uci_id': 22, 'name': 'Chess (King-Rook vs. King-Pawn)', 'repository_url': 'https://archive.ics.uci.edu/dataset/22/chess+king+rook+vs+king+pawn', 'data_url': 'https://archive.ics.uci.edu/static/public/22/data.csv', 'abstract': 'King+Rook versus King+Pawn on a7 (usually abbreviated KRKPA7).', 'area': 'Games', 'tasks': ['Classification'], 'characteristics': ['Multivariate'], 'num_instances': 3196, 'num_features': 35, 'feature_types': ['Categorical'], 'demographics': [], 'target_col': ['wtoeg'], 'index_col': None, 'has_missing_values': 'no', 'missing_values_symbol': None, 'year_of_dataset_creation': 1983, 'last_updated': 'Fri Mar 08 2024', 'dataset_doi': '10.24432/C5DK5C', 'creators': ['Alen Shapiro'], 'intro_paper': None, 'additional_info': {'summary': 'The dataset format is described below.  Note: the format of this database was modified on 2/26/90 to conform with the format of all the other databases in the UCI repository of machine learning databases.', 'purpose': None, 'funded_by': None, 'instances_represent': None, 'recommended_data_splits': None, 'sensitive_data': None, 'preprocessing_description': None, 'variable_info': \"Attributes: see Shapiro's book.\", 'citation': None}}\n",
      "     name     role         type demographic description units missing_values\n",
      "0   bkblk  Feature  Categorical        None        None  None             no\n",
      "1   bknwy  Feature  Categorical        None        None  None             no\n",
      "2   bkon8  Feature  Categorical        None        None  None             no\n",
      "3   bkona  Feature  Categorical        None        None  None             no\n",
      "4   bkspr  Feature  Categorical        None        None  None             no\n",
      "5   bkxbq  Feature  Categorical        None        None  None             no\n",
      "6   bkxcr  Feature  Categorical        None        None  None             no\n",
      "7   bkxwp  Feature  Categorical        None        None  None             no\n",
      "8   blxwp  Feature  Categorical        None        None  None             no\n",
      "9   bxqsq  Feature  Categorical        None        None  None             no\n",
      "10  cntxt  Feature  Categorical        None        None  None             no\n",
      "11  dsopp  Feature  Categorical        None        None  None             no\n",
      "12  dwipd  Feature  Categorical        None        None  None             no\n",
      "13  hdchk  Feature  Categorical        None        None  None             no\n",
      "14  katri  Feature  Categorical        None        None  None             no\n",
      "15  mulch  Feature  Categorical        None        None  None             no\n",
      "16  qxmsq  Feature  Categorical        None        None  None             no\n",
      "17  r2ar8  Feature  Categorical        None        None  None             no\n",
      "18  reskd  Feature  Categorical        None        None  None             no\n",
      "19  reskr  Feature  Categorical        None        None  None             no\n",
      "20  rimmx  Feature  Categorical        None        None  None             no\n",
      "21  rkxwp  Feature  Categorical        None        None  None             no\n",
      "22  rxmsq  Feature  Categorical        None        None  None             no\n",
      "23  simpl  Feature  Categorical        None        None  None             no\n",
      "24  skach  Feature  Categorical        None        None  None             no\n",
      "25  skewr  Feature  Categorical        None        None  None             no\n",
      "26  skrxp  Feature  Categorical        None        None  None             no\n",
      "27  spcop  Feature  Categorical        None        None  None             no\n",
      "28  stlmt  Feature  Categorical        None        None  None             no\n",
      "29  thrsk  Feature  Categorical        None        None  None             no\n",
      "30  wkcti  Feature  Categorical        None        None  None             no\n",
      "31  wkna8  Feature  Categorical        None        None  None             no\n",
      "32  wknck  Feature  Categorical        None        None  None             no\n",
      "33  wkovl  Feature  Categorical        None        None  None             no\n",
      "34  wkpos  Feature  Categorical        None        None  None             no\n",
      "35  wtoeg   Target       Binary        None        None  None             no\n"
     ]
    }
   ],
   "source": [
    "# Fetch dataset\n",
    "chess_king_rook_vs_king_pawn = fetch_ucirepo(id=22)\n",
    "\n",
    "# Extract features and target\n",
    "X = chess_king_rook_vs_king_pawn.data.features\n",
    "y = chess_king_rook_vs_king_pawn.data.targets\n",
    "\n",
    "# Display metadata and variable info\n",
    "print(chess_king_rook_vs_king_pawn.metadata)\n",
    "print(chess_king_rook_vs_king_pawn.variables)"
   ]
  },
  {
   "cell_type": "code",
   "execution_count": 74,
   "id": "bd536e02-c6e4-4bc7-9de0-ceb3e4c4ec5a",
   "metadata": {},
   "outputs": [
    {
     "name": "stdout",
     "output_type": "stream",
     "text": [
      "  bkblk bknwy bkon8 bkona bkspr bkxbq bkxcr bkxwp blxwp bxqsq  ... skewr  \\\n",
      "f     f     f     f     f     f     f     f     f     f     f  ...     f   \n",
      "f     f     f     f     t     f     f     f     f     f     f  ...     f   \n",
      "f     f     f     f     t     f     t     f     f     f     f  ...     f   \n",
      "f     f     f     f     f     f     f     f     t     f     f  ...     f   \n",
      "f     f     f     f     f     f     f     f     f     f     f  ...     f   \n",
      "\n",
      "  skrxp spcop stlmt thrsk wkcti wkna8 wknck wkovl wkpos  \n",
      "f     f     f     f     f     f     f     t     t     n  \n",
      "f     f     f     f     f     f     f     t     t     n  \n",
      "f     f     f     f     f     f     f     t     t     n  \n",
      "f     f     f     f     f     f     f     t     t     n  \n",
      "f     f     f     f     f     f     f     t     t     n  \n",
      "\n",
      "[5 rows x 35 columns]\n",
      "  wtoeg\n",
      "f   won\n",
      "f   won\n",
      "f   won\n",
      "f   won\n",
      "f   won\n"
     ]
    }
   ],
   "source": [
    "# Preview the first few rows of the feature set (X)\n",
    "print(X.head())\n",
    "\n",
    "# Check the target variable (y)\n",
    "print(y.head())"
   ]
  },
  {
   "cell_type": "code",
   "execution_count": 75,
   "id": "9ada07c5-1f04-4c79-b028-ab0d2b6061fb",
   "metadata": {},
   "outputs": [
    {
     "name": "stdout",
     "output_type": "stream",
     "text": [
      "bkblk    0\n",
      "bknwy    0\n",
      "bkon8    0\n",
      "bkona    0\n",
      "bkspr    0\n",
      "bkxbq    0\n",
      "bkxcr    0\n",
      "bkxwp    0\n",
      "blxwp    0\n",
      "bxqsq    0\n",
      "cntxt    0\n",
      "dsopp    0\n",
      "dwipd    0\n",
      "hdchk    0\n",
      "katri    0\n",
      "mulch    0\n",
      "qxmsq    0\n",
      "r2ar8    0\n",
      "reskd    0\n",
      "reskr    0\n",
      "rimmx    0\n",
      "rkxwp    0\n",
      "rxmsq    0\n",
      "simpl    0\n",
      "skach    0\n",
      "skewr    0\n",
      "skrxp    0\n",
      "spcop    0\n",
      "stlmt    0\n",
      "thrsk    0\n",
      "wkcti    0\n",
      "wkna8    0\n",
      "wknck    0\n",
      "wkovl    0\n",
      "wkpos    0\n",
      "dtype: int64\n"
     ]
    }
   ],
   "source": [
    "# Checking for missing values\n",
    "print(X.isnull().sum())"
   ]
  },
  {
   "cell_type": "markdown",
   "id": "40c5d209-97d5-4fa5-9035-1a092dad4b36",
   "metadata": {},
   "source": [
    "Here are the machine learning models used in this chess project:\n",
    "\n",
    "**Chess Move Prediction Model:**\n",
    "Random Forest Classifier\n",
    "\n",
    "**Endgame Outcome Prediction Model:**\n",
    "Random Forest Classifier (also used here)\n",
    "\n",
    "**Win Probability Prediction Model:**\n",
    "Random Forest Regressor\n",
    "\n",
    "In addition to these, I also experimented with other models, including:\n",
    "\n",
    "-Logistic Regression\n",
    "\n",
    "-Support Vector Machine (SVC)\n",
    "\n",
    "-Gradient Boosting Classifier"
   ]
  },
  {
   "cell_type": "markdown",
   "id": "18ea52e3-0741-4702-9a3d-59c744b24df7",
   "metadata": {},
   "source": [
    "# Chess Move Prediction Model\n",
    "The goal here is to predict the next best move based on a given position.\n",
    "Random Forest Classifier"
   ]
  },
  {
   "cell_type": "code",
   "execution_count": 78,
   "id": "c6284f96-b3d2-4de1-bd14-ae512e46cae9",
   "metadata": {},
   "outputs": [
    {
     "name": "stdout",
     "output_type": "stream",
     "text": [
      "Accuracy: 0.9703125\n",
      "Classification Report:\n",
      "               precision    recall  f1-score   support\n",
      "\n",
      "       nowin       0.97      0.97      0.97       300\n",
      "         won       0.97      0.97      0.97       340\n",
      "\n",
      "    accuracy                           0.97       640\n",
      "   macro avg       0.97      0.97      0.97       640\n",
      "weighted avg       0.97      0.97      0.97       640\n",
      "\n"
     ]
    }
   ],
   "source": [
    "# Encode categorical features\n",
    "X_encoded = X.apply(LabelEncoder().fit_transform)\n",
    "\n",
    "# Split the data\n",
    "X_train, X_test, y_train, y_test = train_test_split(X_encoded, y, test_size=0.2, random_state=42)\n",
    "\n",
    "# Initialize the model\n",
    "model = RandomForestClassifier(n_estimators=100, random_state=42)\n",
    "\n",
    "# Train the model\n",
    "model.fit(X_train, y_train)\n",
    "\n",
    "# Make predictions\n",
    "y_pred = model.predict(X_test)\n",
    "\n",
    "# Evaluate the model\n",
    "print(\"Accuracy:\", accuracy_score(y_test, y_pred))\n",
    "print(\"Classification Report:\\n\", classification_report(y_test, y_pred))"
   ]
  },
  {
   "cell_type": "markdown",
   "id": "a6b4ad30-ee66-4cd9-b3ba-0fe0f2217f54",
   "metadata": {},
   "source": [
    "Accuracy: 0.9703125 (97.03%): This indicates that approximately 97% of the predictions made by the model were correct. This is a strong performance, suggesting that the model is effectively distinguishing between the classes.\n",
    "\n",
    "**Classification Report**\n",
    "The classification report provides a detailed analysis of the model's performance for each class.\n",
    "\n",
    "Precision:\n",
    "\n",
    "Nowin: 0.97\n",
    "Won: 0.97\n",
    "Overall: The precision indicates the accuracy of positive predictions. In this case, 97% of the instances predicted as \"nowin\" were indeed \"nowin,\" and the same for \"won.\"\n",
    "Recall:\n",
    "\n",
    "Nowin: 0.97\n",
    "Won: 0.97\n",
    "Overall: Recall indicates the model's ability to find all the relevant instances. A recall of 97% for both classes means that 97% of the actual \"nowin\" and \"won\" instances were correctly identified by the model.\n",
    "F1-Score:\n",
    "\n",
    "Nowin: 0.97\n",
    "Won: 0.97\n",
    "Overall: The F1-score is the harmonic mean of precision and recall, providing a single metric to assess model performance. An F1-score of 0.97 for both classes suggests a good balance between precision and recall.\n",
    "Support:\n",
    "\n",
    "Nowin: 300 instances\n",
    "Won: 340 instances\n",
    "The support indicates the number of actual occurrences of the class in the specified dataset.\n",
    "Averages\n",
    "Macro Average:\n",
    "\n",
    "Precision, Recall, F1-Score: 0.97\n",
    "The macro average treats all classes equally, averaging the metrics without taking class imbalance into account. This suggests that the model performs uniformly across both classes.\n",
    "Weighted Average:\n",
    "\n",
    "Precision, Recall, F1-Score: 0.97\n",
    "The weighted average takes into account the number of instances for each class, giving more weight to the performance on larger classes. This confirms the model's strong performance across classes, especially given the similar numbers of instances in each class.\n",
    "\n",
    "**Conclusion**\n",
    "This model shows a very high level of accuracy and performs consistently across both classes. The precision, recall, and F1-scores indicate that the model is not only good at predicting the correct class but is also effective in capturing the actual instances of both \"won\" and \"nowin."
   ]
  },
  {
   "cell_type": "code",
   "execution_count": 79,
   "id": "ca8b322e-701c-4e76-ab2e-90fda81ebfb8",
   "metadata": {},
   "outputs": [
    {
     "name": "stdout",
     "output_type": "stream",
     "text": [
      "Best parameters: {'max_depth': 20, 'min_samples_split': 2, 'n_estimators': 150}\n"
     ]
    }
   ],
   "source": [
    "param_grid = {\n",
    "    'n_estimators': [50, 100, 150],\n",
    "    'max_depth': [None, 10, 20, 30],\n",
    "    'min_samples_split': [2, 5, 10]\n",
    "}\n",
    "\n",
    "grid_search = GridSearchCV(RandomForestClassifier(random_state=42), param_grid, cv=5)\n",
    "grid_search.fit(X_train, y_train)\n",
    "print(\"Best parameters:\", grid_search.best_params_)"
   ]
  },
  {
   "cell_type": "code",
   "execution_count": 80,
   "id": "ddb1a0f9-035a-45f2-b0df-1a9cd6195258",
   "metadata": {},
   "outputs": [
    {
     "data": {
      "image/png": "[encoded data removed]",
      "text/plain": [
       "<Figure size 1000x800 with 1 Axes>"
      ]
     },
     "metadata": {},
     "output_type": "display_data"
    }
   ],
   "source": [
    "# feature importance\n",
    "feature_importances = model.feature_importances_\n",
    "sorted_indices = feature_importances.argsort()\n",
    "plt.figure(figsize=(10, 8))\n",
    "plt.barh(X_encoded.columns[sorted_indices], feature_importances[sorted_indices])\n",
    "plt.xlabel(\"Feature Importance\")\n",
    "plt.title(\"Feature Importance in Chess Outcome Prediction\")\n",
    "plt.show()"
   ]
  },
  {
   "cell_type": "code",
   "execution_count": 81,
   "id": "8a49e993-47e9-4d90-94ba-30168b1016d1",
   "metadata": {},
   "outputs": [
    {
     "name": "stdout",
     "output_type": "stream",
     "text": [
      "Cross-validation scores: [0.928125   0.9        0.93125    0.965625   1.         0.940625\n",
      " 0.97492163 0.85266458 0.94043887 0.97492163]\n",
      "Mean cross-validation score: 0.9408571708463951\n"
     ]
    }
   ],
   "source": [
    "# Cross-validation scores\n",
    "scores = cross_val_score(model, X_encoded, y, cv=10)\n",
    "print(\"Cross-validation scores:\", scores)\n",
    "print(\"Mean cross-validation score:\", scores.mean())"
   ]
  },
  {
   "cell_type": "code",
   "execution_count": 82,
   "id": "1d49073e-0052-4dbe-9292-7ae5e84df04a",
   "metadata": {},
   "outputs": [
    {
     "name": "stdout",
     "output_type": "stream",
     "text": [
      "Logistic Regression Accuracy: 0.940625\n",
      "SVM Accuracy: 0.9484375\n",
      "Gradient Boosting Accuracy: 0.9546875\n"
     ]
    }
   ],
   "source": [
    "# models\n",
    "models = {\n",
    "    \"Logistic Regression\": LogisticRegression(),\n",
    "    \"SVM\": SVC(),\n",
    "    \"Gradient Boosting\": GradientBoostingClassifier()\n",
    "}\n",
    "\n",
    "for model_name, model in models.items():\n",
    "    model.fit(X_train, y_train)\n",
    "    y_pred = model.predict(X_test)\n",
    "    print(f\"{model_name} Accuracy:\", accuracy_score(y_test, y_pred))"
   ]
  },
  {
   "cell_type": "code",
   "execution_count": 83,
   "id": "20f178b0-e704-4c02-8797-0926ff8aaeac",
   "metadata": {},
   "outputs": [
    {
     "data": {
      "image/png": "[encoded data removed]",
      "text/plain": [
       "<Figure size 640x480 with 2 Axes>"
      ]
     },
     "metadata": {},
     "output_type": "display_data"
    }
   ],
   "source": [
    "ConfusionMatrixDisplay.from_estimator(model, X_test, y_test)\n",
    "plt.title(\"Confusion Matrix\")\n",
    "plt.show()"
   ]
  },
  {
   "cell_type": "markdown",
   "id": "66a6c421-08c5-4e3a-825f-a672c76cf267",
   "metadata": {},
   "source": [
    "**Confusion Matrix:**\n",
    "\n",
    "The confusion matrix is a visual representation of the model's performance. Here's how to interpret it:\n",
    "\n",
    "True Positive (TP): The model correctly predicted a win (won).\n",
    "True Negative (TN): The model correctly predicted a loss (nowin).\n",
    "False Positive (FP): The model incorrectly predicted a win (nowin).\n",
    "False Negative (FN): The model incorrectly predicted a loss (won).\n",
    "In the confusion matrix, the diagonal elements (TP and TN) represent correct predictions, while the off-diagonal elements (FP and FN) represent incorrect predictions. Ideally, you want a confusion matrix with high values on the diagonal and low values off the diagonal."
   ]
  },
  {
   "cell_type": "code",
   "execution_count": 84,
   "id": "df32c489-8dc9-4baa-aa3d-022bef38fd41",
   "metadata": {},
   "outputs": [
    {
     "data": {
      "text/plain": [
       "['chess_outcome_predictor.joblib']"
      ]
     },
     "execution_count": 84,
     "metadata": {},
     "output_type": "execute_result"
    }
   ],
   "source": [
    "joblib.dump(model, \"chess_outcome_predictor.joblib\")\n",
    "# To load later:\n",
    "# model = joblib.load(\"chess_outcome_predictor.joblib\")"
   ]
  },
  {
   "cell_type": "markdown",
   "id": "1ac10db4-7708-419c-93e3-f32ebec16565",
   "metadata": {},
   "source": [
    "# Endgame Outcome Prediction\n",
    "Predict the outcome (win, loss, or draw) given the board state in endgame scenarios.\n",
    "Random Forest Classifier"
   ]
  },
  {
   "cell_type": "code",
   "execution_count": 86,
   "id": "71e992dd-1a25-41a4-baec-95c8c8d48ebe",
   "metadata": {},
   "outputs": [
    {
     "name": "stdout",
     "output_type": "stream",
     "text": [
      "Target classes distribution:\n",
      " wtoeg\n",
      "won      1669\n",
      "nowin    1527\n",
      "Name: count, dtype: int64\n"
     ]
    }
   ],
   "source": [
    "# Check target variable values\n",
    "print(\"Target classes distribution:\\n\", y.value_counts())"
   ]
  },
  {
   "cell_type": "code",
   "execution_count": 87,
   "id": "485094c9-2f20-4512-ad9e-acd12e6137da",
   "metadata": {},
   "outputs": [],
   "source": [
    "# Encode features\n",
    "X_encoded = X.apply(LabelEncoder().fit_transform)\n",
    "\n",
    "# Split data\n",
    "X_train, X_test, y_train, y_test = train_test_split(X_encoded, y, test_size=0.2, stratify=y, random_state=42)"
   ]
  },
  {
   "cell_type": "code",
   "execution_count": 88,
   "id": "4277ff8b-c7f2-41e4-9f96-f8db4f8534a6",
   "metadata": {},
   "outputs": [
    {
     "data": {
      "text/html": [
       "<style>#sk-container-id-2 {\n",
       "  /* Definition of color scheme common for light and dark mode */\n",
       "  --sklearn-color-text: black;\n",
       "  --sklearn-color-line: gray;\n",
       "  /* Definition of color scheme for unfitted estimators */\n",
       "  --sklearn-color-unfitted-level-0: #fff5e6;\n",
       "  --sklearn-color-unfitted-level-1: #f6e4d2;\n",
       "  --sklearn-color-unfitted-level-2: #ffe0b3;\n",
       "  --sklearn-color-unfitted-level-3: chocolate;\n",
       "  /* Definition of color scheme for fitted estimators */\n",
       "  --sklearn-color-fitted-level-0: #f0f8ff;\n",
       "  --sklearn-color-fitted-level-1: #d4ebff;\n",
       "  --sklearn-color-fitted-level-2: #b3dbfd;\n",
       "  --sklearn-color-fitted-level-3: cornflowerblue;\n",
       "\n",
       "  /* Specific color for light theme */\n",
       "  --sklearn-color-text-on-default-background: var(--sg-text-color, var(--theme-code-foreground, var(--jp-content-font-color1, black)));\n",
       "  --sklearn-color-background: var(--sg-background-color, var(--theme-background, var(--jp-layout-color0, white)));\n",
       "  --sklearn-color-border-box: var(--sg-text-color, var(--theme-code-foreground, var(--jp-content-font-color1, black)));\n",
       "  --sklearn-color-icon: #696969;\n",
       "\n",
       "  @media (prefers-color-scheme: dark) {\n",
       "    /* Redefinition of color scheme for dark theme */\n",
       "    --sklearn-color-text-on-default-background: var(--sg-text-color, var(--theme-code-foreground, var(--jp-content-font-color1, white)));\n",
       "    --sklearn-color-background: var(--sg-background-color, var(--theme-background, var(--jp-layout-color0, #111)));\n",
       "    --sklearn-color-border-box: var(--sg-text-color, var(--theme-code-foreground, var(--jp-content-font-color1, white)));\n",
       "    --sklearn-color-icon: #878787;\n",
       "  }\n",
       "}\n",
       "\n",
       "#sk-container-id-2 {\n",
       "  color: var(--sklearn-color-text);\n",
       "}\n",
       "\n",
       "#sk-container-id-2 pre {\n",
       "  padding: 0;\n",
       "}\n",
       "\n",
       "#sk-container-id-2 input.sk-hidden--visually {\n",
       "  border: 0;\n",
       "  clip: rect(1px 1px 1px 1px);\n",
       "  clip: rect(1px, 1px, 1px, 1px);\n",
       "  height: 1px;\n",
       "  margin: -1px;\n",
       "  overflow: hidden;\n",
       "  padding: 0;\n",
       "  position: absolute;\n",
       "  width: 1px;\n",
       "}\n",
       "\n",
       "#sk-container-id-2 div.sk-dashed-wrapped {\n",
       "  border: 1px dashed var(--sklearn-color-line);\n",
       "  margin: 0 0.4em 0.5em 0.4em;\n",
       "  box-sizing: border-box;\n",
       "  padding-bottom: 0.4em;\n",
       "  background-color: var(--sklearn-color-background);\n",
       "}\n",
       "\n",
       "#sk-container-id-2 div.sk-container {\n",
       "  /* jupyter's `normalize.less` sets `[hidden] { display: none; }`\n",
       "     but bootstrap.min.css set `[hidden] { display: none !important; }`\n",
       "     so we also need the `!important` here to be able to override the\n",
       "     default hidden behavior on the sphinx rendered scikit-learn.org.\n",
       "     See: https://github.com/scikit-learn/scikit-learn/issues/21755 */\n",
       "  display: inline-block !important;\n",
       "  position: relative;\n",
       "}\n",
       "\n",
       "#sk-container-id-2 div.sk-text-repr-fallback {\n",
       "  display: none;\n",
       "}\n",
       "\n",
       "div.sk-parallel-item,\n",
       "div.sk-serial,\n",
       "div.sk-item {\n",
       "  /* draw centered vertical line to link estimators */\n",
       "  background-image: linear-gradient(var(--sklearn-color-text-on-default-background), var(--sklearn-color-text-on-default-background));\n",
       "  background-size: 2px 100%;\n",
       "  background-repeat: no-repeat;\n",
       "  background-position: center center;\n",
       "}\n",
       "\n",
       "/* Parallel-specific style estimator block */\n",
       "\n",
       "#sk-container-id-2 div.sk-parallel-item::after {\n",
       "  content: \"\";\n",
       "  width: 100%;\n",
       "  border-bottom: 2px solid var(--sklearn-color-text-on-default-background);\n",
       "  flex-grow: 1;\n",
       "}\n",
       "\n",
       "#sk-container-id-2 div.sk-parallel {\n",
       "  display: flex;\n",
       "  align-items: stretch;\n",
       "  justify-content: center;\n",
       "  background-color: var(--sklearn-color-background);\n",
       "  position: relative;\n",
       "}\n",
       "\n",
       "#sk-container-id-2 div.sk-parallel-item {\n",
       "  display: flex;\n",
       "  flex-direction: column;\n",
       "}\n",
       "\n",
       "#sk-container-id-2 div.sk-parallel-item:first-child::after {\n",
       "  align-self: flex-end;\n",
       "  width: 50%;\n",
       "}\n",
       "\n",
       "#sk-container-id-2 div.sk-parallel-item:last-child::after {\n",
       "  align-self: flex-start;\n",
       "  width: 50%;\n",
       "}\n",
       "\n",
       "#sk-container-id-2 div.sk-parallel-item:only-child::after {\n",
       "  width: 0;\n",
       "}\n",
       "\n",
       "/* Serial-specific style estimator block */\n",
       "\n",
       "#sk-container-id-2 div.sk-serial {\n",
       "  display: flex;\n",
       "  flex-direction: column;\n",
       "  align-items: center;\n",
       "  background-color: var(--sklearn-color-background);\n",
       "  padding-right: 1em;\n",
       "  padding-left: 1em;\n",
       "}\n",
       "\n",
       "\n",
       "/* Toggleable style: style used for estimator/Pipeline/ColumnTransformer box that is\n",
       "clickable and can be expanded/collapsed.\n",
       "- Pipeline and ColumnTransformer use this feature and define the default style\n",
       "- Estimators will overwrite some part of the style using the `sk-estimator` class\n",
       "*/\n",
       "\n",
       "/* Pipeline and ColumnTransformer style (default) */\n",
       "\n",
       "#sk-container-id-2 div.sk-toggleable {\n",
       "  /* Default theme specific background. It is overwritten whether we have a\n",
       "  specific estimator or a Pipeline/ColumnTransformer */\n",
       "  background-color: var(--sklearn-color-background);\n",
       "}\n",
       "\n",
       "/* Toggleable label */\n",
       "#sk-container-id-2 label.sk-toggleable__label {\n",
       "  cursor: pointer;\n",
       "  display: block;\n",
       "  width: 100%;\n",
       "  margin-bottom: 0;\n",
       "  padding: 0.5em;\n",
       "  box-sizing: border-box;\n",
       "  text-align: center;\n",
       "}\n",
       "\n",
       "#sk-container-id-2 label.sk-toggleable__label-arrow:before {\n",
       "  /* Arrow on the left of the label */\n",
       "  content: \"▸\";\n",
       "  float: left;\n",
       "  margin-right: 0.25em;\n",
       "  color: var(--sklearn-color-icon);\n",
       "}\n",
       "\n",
       "#sk-container-id-2 label.sk-toggleable__label-arrow:hover:before {\n",
       "  color: var(--sklearn-color-text);\n",
       "}\n",
       "\n",
       "/* Toggleable content - dropdown */\n",
       "\n",
       "#sk-container-id-2 div.sk-toggleable__content {\n",
       "  max-height: 0;\n",
       "  max-width: 0;\n",
       "  overflow: hidden;\n",
       "  text-align: left;\n",
       "  /* unfitted */\n",
       "  background-color: var(--sklearn-color-unfitted-level-0);\n",
       "}\n",
       "\n",
       "#sk-container-id-2 div.sk-toggleable__content.fitted {\n",
       "  /* fitted */\n",
       "  background-color: var(--sklearn-color-fitted-level-0);\n",
       "}\n",
       "\n",
       "#sk-container-id-2 div.sk-toggleable__content pre {\n",
       "  margin: 0.2em;\n",
       "  border-radius: 0.25em;\n",
       "  color: var(--sklearn-color-text);\n",
       "  /* unfitted */\n",
       "  background-color: var(--sklearn-color-unfitted-level-0);\n",
       "}\n",
       "\n",
       "#sk-container-id-2 div.sk-toggleable__content.fitted pre {\n",
       "  /* unfitted */\n",
       "  background-color: var(--sklearn-color-fitted-level-0);\n",
       "}\n",
       "\n",
       "#sk-container-id-2 input.sk-toggleable__control:checked~div.sk-toggleable__content {\n",
       "  /* Expand drop-down */\n",
       "  max-height: 200px;\n",
       "  max-width: 100%;\n",
       "  overflow: auto;\n",
       "}\n",
       "\n",
       "#sk-container-id-2 input.sk-toggleable__control:checked~label.sk-toggleable__label-arrow:before {\n",
       "  content: \"▾\";\n",
       "}\n",
       "\n",
       "/* Pipeline/ColumnTransformer-specific style */\n",
       "\n",
       "#sk-container-id-2 div.sk-label input.sk-toggleable__control:checked~label.sk-toggleable__label {\n",
       "  color: var(--sklearn-color-text);\n",
       "  background-color: var(--sklearn-color-unfitted-level-2);\n",
       "}\n",
       "\n",
       "#sk-container-id-2 div.sk-label.fitted input.sk-toggleable__control:checked~label.sk-toggleable__label {\n",
       "  background-color: var(--sklearn-color-fitted-level-2);\n",
       "}\n",
       "\n",
       "/* Estimator-specific style */\n",
       "\n",
       "/* Colorize estimator box */\n",
       "#sk-container-id-2 div.sk-estimator input.sk-toggleable__control:checked~label.sk-toggleable__label {\n",
       "  /* unfitted */\n",
       "  background-color: var(--sklearn-color-unfitted-level-2);\n",
       "}\n",
       "\n",
       "#sk-container-id-2 div.sk-estimator.fitted input.sk-toggleable__control:checked~label.sk-toggleable__label {\n",
       "  /* fitted */\n",
       "  background-color: var(--sklearn-color-fitted-level-2);\n",
       "}\n",
       "\n",
       "#sk-container-id-2 div.sk-label label.sk-toggleable__label,\n",
       "#sk-container-id-2 div.sk-label label {\n",
       "  /* The background is the default theme color */\n",
       "  color: var(--sklearn-color-text-on-default-background);\n",
       "}\n",
       "\n",
       "/* On hover, darken the color of the background */\n",
       "#sk-container-id-2 div.sk-label:hover label.sk-toggleable__label {\n",
       "  color: var(--sklearn-color-text);\n",
       "  background-color: var(--sklearn-color-unfitted-level-2);\n",
       "}\n",
       "\n",
       "/* Label box, darken color on hover, fitted */\n",
       "#sk-container-id-2 div.sk-label.fitted:hover label.sk-toggleable__label.fitted {\n",
       "  color: var(--sklearn-color-text);\n",
       "  background-color: var(--sklearn-color-fitted-level-2);\n",
       "}\n",
       "\n",
       "/* Estimator label */\n",
       "\n",
       "#sk-container-id-2 div.sk-label label {\n",
       "  font-family: monospace;\n",
       "  font-weight: bold;\n",
       "  display: inline-block;\n",
       "  line-height: 1.2em;\n",
       "}\n",
       "\n",
       "#sk-container-id-2 div.sk-label-container {\n",
       "  text-align: center;\n",
       "}\n",
       "\n",
       "/* Estimator-specific */\n",
       "#sk-container-id-2 div.sk-estimator {\n",
       "  font-family: monospace;\n",
       "  border: 1px dotted var(--sklearn-color-border-box);\n",
       "  border-radius: 0.25em;\n",
       "  box-sizing: border-box;\n",
       "  margin-bottom: 0.5em;\n",
       "  /* unfitted */\n",
       "  background-color: var(--sklearn-color-unfitted-level-0);\n",
       "}\n",
       "\n",
       "#sk-container-id-2 div.sk-estimator.fitted {\n",
       "  /* fitted */\n",
       "  background-color: var(--sklearn-color-fitted-level-0);\n",
       "}\n",
       "\n",
       "/* on hover */\n",
       "#sk-container-id-2 div.sk-estimator:hover {\n",
       "  /* unfitted */\n",
       "  background-color: var(--sklearn-color-unfitted-level-2);\n",
       "}\n",
       "\n",
       "#sk-container-id-2 div.sk-estimator.fitted:hover {\n",
       "  /* fitted */\n",
       "  background-color: var(--sklearn-color-fitted-level-2);\n",
       "}\n",
       "\n",
       "/* Specification for estimator info (e.g. \"i\" and \"?\") */\n",
       "\n",
       "/* Common style for \"i\" and \"?\" */\n",
       "\n",
       ".sk-estimator-doc-link,\n",
       "a:link.sk-estimator-doc-link,\n",
       "a:visited.sk-estimator-doc-link {\n",
       "  float: right;\n",
       "  font-size: smaller;\n",
       "  line-height: 1em;\n",
       "  font-family: monospace;\n",
       "  background-color: var(--sklearn-color-background);\n",
       "  border-radius: 1em;\n",
       "  height: 1em;\n",
       "  width: 1em;\n",
       "  text-decoration: none !important;\n",
       "  margin-left: 1ex;\n",
       "  /* unfitted */\n",
       "  border: var(--sklearn-color-unfitted-level-1) 1pt solid;\n",
       "  color: var(--sklearn-color-unfitted-level-1);\n",
       "}\n",
       "\n",
       ".sk-estimator-doc-link.fitted,\n",
       "a:link.sk-estimator-doc-link.fitted,\n",
       "a:visited.sk-estimator-doc-link.fitted {\n",
       "  /* fitted */\n",
       "  border: var(--sklearn-color-fitted-level-1) 1pt solid;\n",
       "  color: var(--sklearn-color-fitted-level-1);\n",
       "}\n",
       "\n",
       "/* On hover */\n",
       "div.sk-estimator:hover .sk-estimator-doc-link:hover,\n",
       ".sk-estimator-doc-link:hover,\n",
       "div.sk-label-container:hover .sk-estimator-doc-link:hover,\n",
       ".sk-estimator-doc-link:hover {\n",
       "  /* unfitted */\n",
       "  background-color: var(--sklearn-color-unfitted-level-3);\n",
       "  color: var(--sklearn-color-background);\n",
       "  text-decoration: none;\n",
       "}\n",
       "\n",
       "div.sk-estimator.fitted:hover .sk-estimator-doc-link.fitted:hover,\n",
       ".sk-estimator-doc-link.fitted:hover,\n",
       "div.sk-label-container:hover .sk-estimator-doc-link.fitted:hover,\n",
       ".sk-estimator-doc-link.fitted:hover {\n",
       "  /* fitted */\n",
       "  background-color: var(--sklearn-color-fitted-level-3);\n",
       "  color: var(--sklearn-color-background);\n",
       "  text-decoration: none;\n",
       "}\n",
       "\n",
       "/* Span, style for the box shown on hovering the info icon */\n",
       ".sk-estimator-doc-link span {\n",
       "  display: none;\n",
       "  z-index: 9999;\n",
       "  position: relative;\n",
       "  font-weight: normal;\n",
       "  right: .2ex;\n",
       "  padding: .5ex;\n",
       "  margin: .5ex;\n",
       "  width: min-content;\n",
       "  min-width: 20ex;\n",
       "  max-width: 50ex;\n",
       "  color: var(--sklearn-color-text);\n",
       "  box-shadow: 2pt 2pt 4pt #999;\n",
       "  /* unfitted */\n",
       "  background: var(--sklearn-color-unfitted-level-0);\n",
       "  border: .5pt solid var(--sklearn-color-unfitted-level-3);\n",
       "}\n",
       "\n",
       ".sk-estimator-doc-link.fitted span {\n",
       "  /* fitted */\n",
       "  background: var(--sklearn-color-fitted-level-0);\n",
       "  border: var(--sklearn-color-fitted-level-3);\n",
       "}\n",
       "\n",
       ".sk-estimator-doc-link:hover span {\n",
       "  display: block;\n",
       "}\n",
       "\n",
       "/* \"?\"-specific style due to the `<a>` HTML tag */\n",
       "\n",
       "#sk-container-id-2 a.estimator_doc_link {\n",
       "  float: right;\n",
       "  font-size: 1rem;\n",
       "  line-height: 1em;\n",
       "  font-family: monospace;\n",
       "  background-color: var(--sklearn-color-background);\n",
       "  border-radius: 1rem;\n",
       "  height: 1rem;\n",
       "  width: 1rem;\n",
       "  text-decoration: none;\n",
       "  /* unfitted */\n",
       "  color: var(--sklearn-color-unfitted-level-1);\n",
       "  border: var(--sklearn-color-unfitted-level-1) 1pt solid;\n",
       "}\n",
       "\n",
       "#sk-container-id-2 a.estimator_doc_link.fitted {\n",
       "  /* fitted */\n",
       "  border: var(--sklearn-color-fitted-level-1) 1pt solid;\n",
       "  color: var(--sklearn-color-fitted-level-1);\n",
       "}\n",
       "\n",
       "/* On hover */\n",
       "#sk-container-id-2 a.estimator_doc_link:hover {\n",
       "  /* unfitted */\n",
       "  background-color: var(--sklearn-color-unfitted-level-3);\n",
       "  color: var(--sklearn-color-background);\n",
       "  text-decoration: none;\n",
       "}\n",
       "\n",
       "#sk-container-id-2 a.estimator_doc_link.fitted:hover {\n",
       "  /* fitted */\n",
       "  background-color: var(--sklearn-color-fitted-level-3);\n",
       "}\n",
       "</style><div id=\"sk-container-id-2\" class=\"sk-top-container\"><div class=\"sk-text-repr-fallback\"><pre>RandomForestClassifier(random_state=42)</pre><b>In a Jupyter environment, please rerun this cell to show the HTML representation or trust the notebook. <br />On GitHub, the HTML representation is unable to render, please try loading this page with nbviewer.org.</b></div><div class=\"sk-container\" hidden><div class=\"sk-item\"><div class=\"sk-estimator fitted sk-toggleable\"><input class=\"sk-toggleable__control sk-hidden--visually\" id=\"sk-estimator-id-2\" type=\"checkbox\" checked><label for=\"sk-estimator-id-2\" class=\"sk-toggleable__label fitted sk-toggleable__label-arrow fitted\">&nbsp;&nbsp;RandomForestClassifier<a class=\"sk-estimator-doc-link fitted\" rel=\"noreferrer\" target=\"_blank\" href=\"https://scikit-learn.org/1.4/modules/generated/sklearn.ensemble.RandomForestClassifier.html\">?<span>Documentation for RandomForestClassifier</span></a><span class=\"sk-estimator-doc-link fitted\">i<span>Fitted</span></span></label><div class=\"sk-toggleable__content fitted\"><pre>RandomForestClassifier(random_state=42)</pre></div> </div></div></div></div>"
      ],
      "text/plain": [
       "RandomForestClassifier(random_state=42)"
      ]
     },
     "execution_count": 88,
     "metadata": {},
     "output_type": "execute_result"
    }
   ],
   "source": [
    "# Initialize the model with a multiclass objective\n",
    "model = RandomForestClassifier(n_estimators=100, random_state=42)\n",
    "\n",
    "# Train the model\n",
    "model.fit(X_train, y_train)"
   ]
  },
  {
   "cell_type": "code",
   "execution_count": 89,
   "id": "76d28ffa-7e68-4ee3-9280-8edb716933fb",
   "metadata": {},
   "outputs": [
    {
     "name": "stdout",
     "output_type": "stream",
     "text": [
      "Accuracy: 0.9796875\n",
      "Classification Report:\n",
      "               precision    recall  f1-score   support\n",
      "\n",
      "       nowin       0.98      0.98      0.98       306\n",
      "         won       0.98      0.98      0.98       334\n",
      "\n",
      "    accuracy                           0.98       640\n",
      "   macro avg       0.98      0.98      0.98       640\n",
      "weighted avg       0.98      0.98      0.98       640\n",
      "\n"
     ]
    },
    {
     "data": {
      "image/png": "[encoded data removed]",
      "text/plain": [
       "<Figure size 640x480 with 2 Axes>"
      ]
     },
     "metadata": {},
     "output_type": "display_data"
    }
   ],
   "source": [
    "# Make predictions\n",
    "y_pred = model.predict(X_test)\n",
    "\n",
    "# Evaluate\n",
    "print(\"Accuracy:\", accuracy_score(y_test, y_pred))\n",
    "print(\"Classification Report:\\n\", classification_report(y_test, y_pred))\n",
    "\n",
    "# Confusion matrix\n",
    "ConfusionMatrixDisplay.from_estimator(model, X_test, y_test)\n",
    "plt.title(\"Confusion Matrix for Endgame Outcome Prediction\")\n",
    "plt.show()"
   ]
  },
  {
   "cell_type": "markdown",
   "id": "991a47fc-f088-4e05-a006-2586a74a1dbb",
   "metadata": {},
   "source": [
    "**Model Accuracy:**\n",
    "\n",
    "Accuracy: 0.9796875\n",
    "This number represents the overall accuracy of the model in predicting the outcome of chess games. It means that the model correctly predicted the outcome in 97.97% of the cases.\n",
    "\n",
    "**Classification Report:**\n",
    "\n",
    "The classification report provides a more detailed breakdown of the model's performance.\n",
    "\n",
    "Precision: This measures the proportion of positive predictions that are actually positive. In this case, the model is very precise in predicting both wins and losses.\n",
    "Recall: This measures the proportion of actual positive cases that the model correctly identifies. The model has high recall for both wins and losses.\n",
    "F1-score: This is the harmonic mean of precision and recall. It provides a balanced measure of the model's performance. The model has high F1-scores for both classes.\n",
    "Support: This represents the number of instances in each class.\n",
    "\n",
    "**Confusion Matrix:**\n",
    "\n",
    "The confusion matrix is a visual representation of the model's performance. Here's how to interpret it:\n",
    "\n",
    "True Positive (TP): The model correctly predicted a win (won).\n",
    "True Negative (TN): The model correctly predicted a loss (nowin).\n",
    "False Positive (FP): The model incorrectly predicted a win (nowin).\n",
    "False Negative (FN): The model incorrectly predicted a loss (won).\n",
    "In the confusion matrix, the diagonal elements (TP and TN) represent correct predictions, while the off-diagonal elements (FP and FN) represent incorrect predictions. Ideally, you want a confusion matrix with high values on the diagonal and low values off the diagonal."
   ]
  },
  {
   "cell_type": "code",
   "execution_count": 90,
   "id": "75882c2e-4c14-4064-af70-f6ae7447941e",
   "metadata": {},
   "outputs": [
    {
     "name": "stdout",
     "output_type": "stream",
     "text": [
      "Best parameters found: {'max_depth': None, 'min_samples_split': 5, 'n_estimators': 150}\n"
     ]
    }
   ],
   "source": [
    "# GridSearchCV\n",
    "param_grid = {\n",
    "    'n_estimators': [50, 100, 150],\n",
    "    'max_depth': [None, 10, 20],\n",
    "    'min_samples_split': [2, 5, 10]\n",
    "}\n",
    "\n",
    "grid_search = GridSearchCV(RandomForestClassifier(random_state=42), param_grid, cv=5, scoring='accuracy')\n",
    "grid_search.fit(X_train, y_train)\n",
    "print(\"Best parameters found:\", grid_search.best_params_)"
   ]
  },
  {
   "cell_type": "code",
   "execution_count": 91,
   "id": "a88519cb-87cf-4afe-91e2-379c3376163e",
   "metadata": {},
   "outputs": [
    {
     "name": "stdout",
     "output_type": "stream",
     "text": [
      "Balanced Model Accuracy: 0.978125\n",
      "Classification Report for Balanced Model:\n",
      "               precision    recall  f1-score   support\n",
      "\n",
      "       nowin       0.98      0.97      0.98       306\n",
      "         won       0.98      0.98      0.98       334\n",
      "\n",
      "    accuracy                           0.98       640\n",
      "   macro avg       0.98      0.98      0.98       640\n",
      "weighted avg       0.98      0.98      0.98       640\n",
      "\n"
     ]
    }
   ],
   "source": [
    "# Initialize the model with balanced class weights\n",
    "model_balanced = RandomForestClassifier(n_estimators=100, class_weight='balanced', random_state=42)\n",
    "model_balanced.fit(X_train, y_train)\n",
    "y_pred_balanced = model_balanced.predict(X_test)\n",
    "\n",
    "# Evaluate the balanced model\n",
    "print(\"Balanced Model Accuracy:\", accuracy_score(y_test, y_pred_balanced))\n",
    "print(\"Classification Report for Balanced Model:\\n\", classification_report(y_test, y_pred_balanced))"
   ]
  },
  {
   "cell_type": "code",
   "execution_count": 92,
   "id": "e94db19c-b707-4ea5-a840-833fec531034",
   "metadata": {},
   "outputs": [
    {
     "name": "stdout",
     "output_type": "stream",
     "text": [
      "SMOTE Model Accuracy: 0.978125\n",
      "Classification Report for SMOTE Model:\n",
      "               precision    recall  f1-score   support\n",
      "\n",
      "       nowin       0.98      0.98      0.98       306\n",
      "         won       0.98      0.98      0.98       334\n",
      "\n",
      "    accuracy                           0.98       640\n",
      "   macro avg       0.98      0.98      0.98       640\n",
      "weighted avg       0.98      0.98      0.98       640\n",
      "\n"
     ]
    }
   ],
   "source": [
    "# Apply SMOTE to the training data\n",
    "smote = SMOTE(random_state=42)\n",
    "X_train_smote, y_train_smote = smote.fit_resample(X_train, y_train)\n",
    "\n",
    "# Train the model on the SMOTE-balanced data\n",
    "model_smote = RandomForestClassifier(n_estimators=100, random_state=42)\n",
    "model_smote.fit(X_train_smote, y_train_smote)\n",
    "y_pred_smote = model_smote.predict(X_test)\n",
    "\n",
    "# Evaluate the SMOTE model\n",
    "print(\"SMOTE Model Accuracy:\", accuracy_score(y_test, y_pred_smote))\n",
    "print(\"Classification Report for SMOTE Model:\\n\", classification_report(y_test, y_pred_smote))"
   ]
  },
  {
   "cell_type": "code",
   "execution_count": 93,
   "id": "72f207f8-1658-42a4-87d6-e44998ab5a7f",
   "metadata": {},
   "outputs": [
    {
     "name": "stdout",
     "output_type": "stream",
     "text": [
      "Best Model Parameters: {'max_depth': 20, 'min_samples_split': 2, 'n_estimators': 200}\n",
      "Best Model Accuracy: 0.9765625\n",
      "Classification Report for Best Model:\n",
      "               precision    recall  f1-score   support\n",
      "\n",
      "       nowin       0.98      0.97      0.98       306\n",
      "         won       0.98      0.98      0.98       334\n",
      "\n",
      "    accuracy                           0.98       640\n",
      "   macro avg       0.98      0.98      0.98       640\n",
      "weighted avg       0.98      0.98      0.98       640\n",
      "\n"
     ]
    }
   ],
   "source": [
    "# GridSearchCV\n",
    "param_grid = {\n",
    "    'n_estimators': [100, 200, 300],\n",
    "    'max_depth': [None, 10, 20],\n",
    "    'min_samples_split': [2, 5, 10]\n",
    "}\n",
    "\n",
    "grid_search = GridSearchCV(RandomForestClassifier(class_weight='balanced', random_state=42), param_grid, cv=5, scoring='accuracy')\n",
    "grid_search.fit(X_train, y_train)\n",
    "\n",
    "# Use the best model found by GridSearchCV\n",
    "best_model = grid_search.best_estimator_\n",
    "y_pred_best = best_model.predict(X_test)\n",
    "\n",
    "# Evaluate the tuned model\n",
    "print(\"Best Model Parameters:\", grid_search.best_params_)\n",
    "print(\"Best Model Accuracy:\", accuracy_score(y_test, y_pred_best))\n",
    "print(\"Classification Report for Best Model:\\n\", classification_report(y_test, y_pred_best))"
   ]
  },
  {
   "cell_type": "code",
   "execution_count": 94,
   "id": "d1887f2c-3d92-4d03-9d86-84d0b38638d2",
   "metadata": {},
   "outputs": [
    {
     "data": {
      "image/png": "[encoded data removed]",
      "text/plain": [
       "<Figure size 1000x800 with 1 Axes>"
      ]
     },
     "metadata": {},
     "output_type": "display_data"
    }
   ],
   "source": [
    "# Get feature importances from the best model\n",
    "feature_importances = best_model.feature_importances_\n",
    "sorted_indices = feature_importances.argsort()\n",
    "\n",
    "# Plot feature importance\n",
    "plt.figure(figsize=(10, 8))\n",
    "plt.barh(X_encoded.columns[sorted_indices], feature_importances[sorted_indices])\n",
    "plt.xlabel(\"Feature Importance\")\n",
    "plt.title(\"Feature Importance for Endgame Outcome Prediction\")\n",
    "plt.show()"
   ]
  },
  {
   "cell_type": "code",
   "execution_count": 95,
   "id": "d1a0787f-d58c-4a29-8e42-58f66ab3f5b8",
   "metadata": {},
   "outputs": [
    {
     "name": "stdout",
     "output_type": "stream",
     "text": [
      "Cross-Validation Scores: [0.925      0.9        0.934375   0.971875   1.         0.93125\n",
      " 0.96865204 0.84639498 0.94984326 0.97492163]\n",
      "Mean Cross-Validation Score: 0.9402311912225706\n"
     ]
    }
   ],
   "source": [
    "# Cross-validation on the best model\n",
    "cv_scores = cross_val_score(best_model, X_encoded, y, cv=10)\n",
    "print(\"Cross-Validation Scores:\", cv_scores)\n",
    "print(\"Mean Cross-Validation Score:\", cv_scores.mean())\n"
   ]
  },
  {
   "cell_type": "markdown",
   "id": "0e715090-0e0c-4680-83df-a40f9f329aab",
   "metadata": {},
   "source": [
    "Best Model Parameters\n",
    "max_depth: 20 - This parameter controls the maximum depth of the tree. A deeper tree can capture more information but may also lead to overfitting.\n",
    "min_samples_split: 2 - This parameter defines the minimum number of samples required to split an internal node. A lower value allows for more splits, which may increase complexity.\n",
    "n_estimators: 200 - This indicates the number of trees in the forest. More trees generally improve model performance but increase computational cost.\n",
    "Best Model Accuracy\n",
    "Accuracy: 0.9766 - The model correctly classified approximately 97.66% of the instances in the test dataset, indicating strong performance.\n",
    "**Classification Report for Best Model**\n",
    "Precision:\n",
    "\n",
    "nowin: 0.98 - This means that when the model predicted 'nowin,' it was correct 98% of the time.\n",
    "won: 0.98 - The model was also correct 98% of the time for the 'won' predictions.\n",
    "Recall:\n",
    "\n",
    "nowin: 0.97 - Of all actual 'nowin' instances, the model correctly identified 97%.\n",
    "won: 0.98 - Of all actual 'won' instances, the model correctly identified 98%.\n",
    "F1-score: This is the harmonic mean of precision and recall, giving a better measure of the model’s performance than accuracy alone, especially for imbalanced classes.\n",
    "\n",
    "Both classes have an F1-score of 0.98, indicating a good balance between precision and recall.\n",
    "Support: This represents the number of actual occurrences of each class in the specified dataset.\n",
    "\n",
    "nowin: 306 instances\n",
    "won: 334 instances\n",
    "Overall Accuracy\n",
    "Overall Accuracy: 0.98 - The model has an overall accuracy of 98%, suggesting it performs very well on this dataset.\n",
    "\n",
    "Mean Cross-Validation Score: 0.9402 - This score indicates that, on average, the model performs well across different subsets of the dataset, which is important for evaluating its generalizability.\n",
    "\n",
    "**Summary**\n",
    "This model exhibits excellent performance, as evidenced by high precision, recall, and F1-scores. The parameters chosen seem to optimize the balance between complexity and accuracy, making this model suitable for predicting win probabilities based on the features in your dataset."
   ]
  },
  {
   "cell_type": "code",
   "execution_count": 96,
   "id": "7b27794f-24a7-4551-b163-24f51fada3c3",
   "metadata": {},
   "outputs": [
    {
     "data": {
      "text/plain": [
       "['chess_endgame_outcome_predictor.joblib']"
      ]
     },
     "execution_count": 96,
     "metadata": {},
     "output_type": "execute_result"
    }
   ],
   "source": [
    "# Save the best model\n",
    "joblib.dump(best_model, \"chess_endgame_outcome_predictor.joblib\")\n",
    "# To load the model in the future:\n",
    "# best_model = joblib.load(\"chess_endgame_outcome_predictor.joblib\")"
   ]
  },
  {
   "cell_type": "markdown",
   "id": "50f6e8ad-fb96-49d1-863b-c84bb112cadc",
   "metadata": {},
   "source": [
    "# Win Probability Prediction Throughout the Game\n",
    "Training a model to predict win probability as the game progresses.\n",
    "Random Forest Regressor"
   ]
  },
  {
   "cell_type": "code",
   "execution_count": 98,
   "id": "a7ca84d6-48bc-4212-8a3f-dc89a1ad932e",
   "metadata": {},
   "outputs": [],
   "source": [
    "# Map target labels to win probability values\n",
    "win_probability_mapping = {'win': 1.0, 'draw': 0.5, 'loss': 0.0}\n",
    "y_prob = y.replace(win_probability_mapping)"
   ]
  },
  {
   "cell_type": "code",
   "execution_count": 99,
   "id": "01596052-adef-4977-9989-57aa87aacb61",
   "metadata": {},
   "outputs": [],
   "source": [
    "# Train-test split\n",
    "X_train, X_test, y_train, y_test = train_test_split(X_encoded, y_prob, test_size=0.2, random_state=42)"
   ]
  },
  {
   "cell_type": "code",
   "execution_count": 100,
   "id": "be3a40bc-17ed-4dd9-8d98-4d05a0eec8b7",
   "metadata": {},
   "outputs": [
    {
     "name": "stdout",
     "output_type": "stream",
     "text": [
      "<class 'pandas.core.frame.DataFrame'>\n",
      "   wtoeg\n",
      "f  nowin\n",
      "f    won\n",
      "f  nowin\n",
      "f  nowin\n",
      "f    won\n"
     ]
    }
   ],
   "source": [
    "print(type(y_train))  # Check the type\n",
    "print(y_train.head())  # Display the first few rows"
   ]
  },
  {
   "cell_type": "code",
   "execution_count": 101,
   "id": "f9319b86-c271-4b81-90b7-403b4e0cac20",
   "metadata": {},
   "outputs": [],
   "source": [
    "y_train_series = y_train['wtoeg'].squeeze()  # or use y_train.iloc[:, 0] to get the first column as a Series\n",
    "\n",
    "y_train_numeric = y_train_series.map({\n",
    "    'won': 1.0,     # Assign a value for 'won'\n",
    "    'nowin': 0.5,   # Assign a value for 'nowin'\n",
    "    'loss': 0.0     # Assign a value for 'loss' (if applicable)\n",
    "})\n",
    "\n",
    "# Check if there are any NaN values after mapping\n",
    "if y_train_numeric.isnull().any():\n",
    "    print(\"There are NaN values in y_train_numeric. Check your mapping.\")\n",
    "else:   \n",
    "    # Initialize the regression model\n",
    "    win_prob_model = RandomForestRegressor(n_estimators=100, random_state=42)\n",
    "\n",
    "    # Fit the model\n",
    "    win_prob_model.fit(X_train, y_train_numeric)"
   ]
  },
  {
   "cell_type": "code",
   "execution_count": 102,
   "id": "ffc55a23-315f-4331-a6a5-5c71924f1fc7",
   "metadata": {},
   "outputs": [],
   "source": [
    "# Make predictions\n",
    "y_pred = win_prob_model.predict(X_test)"
   ]
  },
  {
   "cell_type": "code",
   "execution_count": 103,
   "id": "d2664fae-b287-4127-843e-f2c6217303d5",
   "metadata": {},
   "outputs": [],
   "source": [
    "predictions_categorical = ['won' if pred == 1.0 else 'nowin' if pred == 0.5 else 'loss' for pred in y_pred]"
   ]
  },
  {
   "cell_type": "code",
   "execution_count": 104,
   "id": "cc2977a8-eaa3-42e7-8f7f-30fad97efcfe",
   "metadata": {},
   "outputs": [
    {
     "name": "stdout",
     "output_type": "stream",
     "text": [
      "    Predicted Outcome\n",
      "0                loss\n",
      "1               nowin\n",
      "2               nowin\n",
      "3                 won\n",
      "4               nowin\n",
      "..                ...\n",
      "635              loss\n",
      "636             nowin\n",
      "637               won\n",
      "638             nowin\n",
      "639             nowin\n",
      "\n",
      "[640 rows x 1 columns]\n"
     ]
    }
   ],
   "source": [
    "predictions_df = pd.DataFrame({\n",
    "    'Predicted Outcome': predictions_categorical\n",
    "})\n",
    "\n",
    "print(predictions_df)"
   ]
  },
  {
   "cell_type": "code",
   "execution_count": 105,
   "id": "675280a7-609a-4a11-9a2f-0b523888ea0d",
   "metadata": {},
   "outputs": [
    {
     "name": "stdout",
     "output_type": "stream",
     "text": [
      "Accuracy: 0.88\n",
      "Precision: 1.00\n",
      "Recall: 0.88\n",
      "F1 Score: 0.94\n"
     ]
    }
   ],
   "source": [
    "accuracy = accuracy_score(y_test, predictions_categorical)\n",
    "precision = precision_score(y_test, predictions_categorical, average='weighted', zero_division=0)\n",
    "recall = recall_score(y_test, predictions_categorical, average='weighted', zero_division=0)\n",
    "f1 = f1_score(y_test, predictions_categorical, average='weighted', zero_division=0)\n",
    "\n",
    "# Display the metrics\n",
    "print(f\"Accuracy: {accuracy:.2f}\")\n",
    "print(f\"Precision: {precision:.2f}\")\n",
    "print(f\"Recall: {recall:.2f}\")\n",
    "print(f\"F1 Score: {f1:.2f}\")"
   ]
  },
  {
   "cell_type": "code",
   "execution_count": 67,
   "id": "e36284e3-6530-4a21-a56b-ea4967a374d9",
   "metadata": {},
   "outputs": [
    {
     "data": {
      "image/png": "[encoded data removed]",
      "text/plain": [
       "<Figure size 1000x800 with 1 Axes>"
      ]
     },
     "metadata": {},
     "output_type": "display_data"
    }
   ],
   "source": [
    "# Plot feature importances\n",
    "feature_importances = win_prob_model.feature_importances_\n",
    "sorted_indices = feature_importances.argsort()\n",
    "\n",
    "plt.figure(figsize=(10, 8))\n",
    "plt.barh(X_encoded.columns[sorted_indices], feature_importances[sorted_indices])\n",
    "plt.xlabel(\"Feature Importance\")\n",
    "plt.title(\"Feature Importance for Win Probability Prediction\")\n",
    "plt.show()\n"
   ]
  },
  {
   "cell_type": "code",
   "execution_count": null,
   "id": "4b7bceec-0568-47bc-87a7-3949178bfb33",
   "metadata": {},
   "outputs": [],
   "source": [
    "Accuracy: 0.88\n",
    "Definition: Accuracy measures the proportion of correctly classified instances out of the total instances.\n",
    "Interpretation: An accuracy of 88% indicates that the model correctly classified 88% of all instances in the dataset. While this is a decent accuracy, it is essential to consider other metrics, especially if the dataset is imbalanced.\n",
    "Precision: 1.00\n",
    "Definition: Precision measures the proportion of true positive predictions among all positive predictions made by the model.\n",
    "Interpretation: A precision of 1.00 means that when the model predicts a positive class (e.g., 'won'), it is correct 100% of the time. This indicates that there are no false positives, which is excellent for the model's reliability when predicting positive outcomes.\n",
    "Recall: 0.88\n",
    "Definition: Recall (also known as sensitivity or true positive rate) measures the proportion of actual positive instances that were correctly identified by the model.\n",
    "Interpretation: A recall of 0.88 means that the model correctly identified 88% of the actual positive cases. While this is good, it suggests that there may be some positive cases (12%) that the model is missing (false negatives).\n",
    "F1 Score: 0.94\n",
    "Definition: The F1 Score is the harmonic mean of precision and recall, providing a balance between the two metrics, especially useful when dealing with imbalanced datasets.\n",
    "Interpretation: An F1 Score of 0.94 indicates a strong balance between precision and recall, reflecting good overall performance. The F1 Score being close to 1 suggests that the model performs well in identifying positive cases without sacrificing too much recall."
   ]
  },
  {
   "cell_type": "code",
   "execution_count": 115,
   "id": "a3c5cf2a-86e6-4d9c-9b91-f647a53ed163",
   "metadata": {},
   "outputs": [],
   "source": [
    "import pickle"
   ]
  },
  {
   "cell_type": "code",
   "execution_count": 117,
   "id": "8992e745-e0ab-48f1-b961-2c8cd14ae103",
   "metadata": {},
   "outputs": [],
   "source": [
    "# Save the model to a file\n",
    "with open('win_prob_model.pkl', 'wb') as file:\n",
    "    pickle.dump(win_prob_model, file)"
   ]
  },
  {
   "cell_type": "code",
   "execution_count": 119,
   "id": "9cb6be7c-88fb-41d1-8581-7f384d3f0cb9",
   "metadata": {},
   "outputs": [],
   "source": [
    "# Load the model from the file\n",
    "with open('win_prob_model.pkl', 'rb') as file:\n",
    "    loaded_model = pickle.load(file)"
   ]
  }
 ],
 "metadata": {
  "kernelspec": {
   "display_name": "Python 3 (ipykernel)",
   "language": "python",
   "name": "python3"
  },
  "language_info": {
   "codemirror_mode": {
    "name": "ipython",
    "version": 3
   },
   "file_extension": ".py",
   "mimetype": "text/x-python",
   "name": "python",
   "nbconvert_exporter": "python",
   "pygments_lexer": "ipython3",
   "version": "3.12.4"
  }
 },
 "nbformat": 4,
 "nbformat_minor": 5
}
