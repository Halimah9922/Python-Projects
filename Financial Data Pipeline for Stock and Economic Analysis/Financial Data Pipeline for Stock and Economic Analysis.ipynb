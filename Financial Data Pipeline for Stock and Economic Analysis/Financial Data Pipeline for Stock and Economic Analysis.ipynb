{
 "cells": [
  {
   "cell_type": "markdown",
   "id": "9a90619e-0599-47d6-b13a-536a7f50d83b",
   "metadata": {},
   "source": [
    "This project focuses on gathering and analyzing financial and economic data, specifically targeting Apple Inc. (AAPL) stock prices, Quandl data related to AAPL, and the U.S. unemployment rate. Here’s a detailed description of your project, covering the methodologies, datasets, and visualizations.\n",
    "\n",
    "# Project Overview\n",
    "This project aims to analyze the historical stock performance of Apple Inc. and its correlation with economic indicators, particularly the unemployment rate in the United States. By utilizing various data sources such as Yahoo Finance, Quandl, and the Federal Reserve Economic Data (FRED) API, the project provides insights into how macroeconomic factors influence stock prices."
   ]
  },
  {
   "cell_type": "code",
   "execution_count": 18,
   "id": "6148b6b8-f748-4288-89fe-dd8778fe0995",
   "metadata": {},
   "outputs": [],
   "source": [
    "import pandas as pd\n",
    "from sqlalchemy import create_engine\n",
    "import yfinance as yf\n",
    "import quandl\n",
    "from fredapi import Fred\n",
    "import warnings\n",
    "import matplotlib.pyplot as plt\n",
    "\n",
    "# Suppress warnings\n",
    "warnings.filterwarnings(\"ignore\")"
   ]
  },
  {
   "cell_type": "markdown",
   "id": "0a50d940-0d6a-4be6-bff2-73b30a6bfb4a",
   "metadata": {},
   "source": [
    "## Data Sources\n",
    "\n",
    "### Yahoo Finance\n",
    "- **Data Retrieved**: Historical stock prices for **Apple Inc. (AAPL)** from January 1, 2020, to January 1, 2023.\n",
    "- **Variables**:\n",
    "  - **Date**: The trading date.\n",
    "  - **Open**: The stock price at market open.\n",
    "  - **High**: The highest stock price during the trading day.\n",
    "  - **Low**: The lowest stock price during the trading day.\n",
    "  - **Close**: The stock price at market close.\n",
    "  - **Adj Close**: The adjusted closing price accounting for dividends and stock splits.\n",
    "  - **Volume**: The number of shares traded.\n",
    "- **Purpose**: To analyze the trends and patterns in Apple's stock performance over a specified period.\n",
    "\n",
    "### Quandl\n",
    "- **Data Retrieved**: Additional datasets from **Quandl** related to **Apple Inc.** (such as end-of-day stock prices).\n",
    "- **Variables**: Similar to Yahoo Finance, including daily prices and volumes.\n",
    "- **Purpose**: To cross-reference and validate data from Yahoo Finance, ensuring accuracy and completeness.\n",
    "\n",
    "### Federal Reserve Economic Data (FRED)\n",
    "- **Data Retrieved**: Monthly unemployment rate data (**UNRATE**) for the same period.\n",
    "- **Variables**:\n",
    "  - **Date**: The date for each unemployment rate entry.\n",
    "  - **Unemployment Rate**: The percentage of the labor force that is unemployed.\n",
    "- **Purpose**: To examine the relationship between Apple’s stock prices and the unemployment rate, providing insights into how economic conditions may affect investor sentiment and stock valuation.\n",
    "\n",
    "## Data Collection and Processing\n",
    "\n",
    "- **Data Fetching**: Functions are implemented to retrieve data from **Yahoo Finance**, **Quandl**, and **FRED**, utilizing their respective APIs. Error handling is included to ensure the project can gracefully manage potential data retrieval issues.\n",
    "- **Data Display**: The retrieved datasets are displayed in a structured format, allowing for initial inspections and ensuring that the data is as expected before analysis.\n",
    "- **Data Saving**: The project includes functionality to save the retrieved data into **CSV files** for future reference and offline analysis, ensuring data persistence."
   ]
  },
  {
   "cell_type": "code",
   "execution_count": 19,
   "id": "3af9f865-b992-4389-a896-a184663dea62",
   "metadata": {},
   "outputs": [],
   "source": [
    "QUANDL_API_KEY = 'FuCDS95Awv5MBy4pVFvV'\n",
    "FRED_API_KEY = '1aea7e0f5e128895b24e237dc3a361fb' "
   ]
  },
  {
   "cell_type": "code",
   "execution_count": null,
   "id": "1380251a-087b-4b67-aa5d-929de207803f",
   "metadata": {},
   "outputs": [],
   "source": [
    "# Function to fetch Yahoo Finance data\n",
    "def fetch_yahoo_finance_data(ticker, start_date, end_date):\n",
    "    \"\"\"Fetch historical stock data from Yahoo Finance.\"\"\"\n",
    "    data = yf.download(ticker, start=start_date, end=end_date)\n",
    "    data.reset_index(inplace=True)  # Reset index to make date a column\n",
    "    return data\n",
    "\n",
    "# Function to fetch data from Quandl\n",
    "def fetch_quandl_data(dataset):\n",
    "    \"\"\"Fetch data from Quandl.\"\"\"\n",
    "    try:\n",
    "        quandl.ApiConfig.api_key = QUANDL_API_KEY\n",
    "        return quandl.get(dataset)\n",
    "    except Exception as e:\n",
    "        print(f\"Error fetching data from Quandl: {e}\")\n",
    "        return pd.DataFrame()  # Return an empty DataFrame on error\n",
    "\n",
    "# Function to fetch data from FRED\n",
    "def fetch_fred_data(series_id, start_date, end_date):\n",
    "    \"\"\"Fetch economic data from FRED.\"\"\"\n",
    "    fred = Fred(api_key=FRED_API_KEY)\n",
    "    return fred.get_series(series_id, start=start_date, end=end_date)\n",
    "\n",
    "# Function to display DataFrame instead of saving to a database\n",
    "def display_data(df, name):\n",
    "    \"\"\"Display DataFrame contents.\"\"\"\n",
    "    print(f\"Data for {name}:\")\n",
    "    print(df.head())  # Display first few rows of the DataFrame\n",
    "\n",
    "# Example usage\n",
    "if __name__ == \"__main__\":\n",
    "    # Fetch data\n",
    "    stock_data = fetch_yahoo_finance_data(\"AAPL\", \"2020-01-01\", \"2023-01-01\")\n",
    "    quandl_data = fetch_quandl_data(\"EOD/AAPL\")  # Update with the correct dataset code\n",
    "    unemployment_rate = fetch_fred_data(\"UNRATE\", \"2020-01-01\", \"2023-01-01\")\n",
    "\n",
    "    # Display fetched data\n",
    "    display_data(stock_data, 'Apple Stock Data')\n",
    "    display_data(quandl_data, 'Quandl AAPL Data')\n",
    "    display_data(unemployment_rate.to_frame(name='Unemployment Rate'), 'Unemployment Rate')\n"
   ]
  },
  {
   "cell_type": "markdown",
   "id": "3f4d3d7a-5d8c-4d71-8fb8-e1d825d94827",
   "metadata": {},
   "source": [
    "## Data Visualization\n",
    "A key feature of this project is the visualization of the data. A plot is created to display the adjusted closing prices of **Apple Inc.** alongside the **unemployment rate** over time. \n",
    "### Purpose of Visualization\n",
    "The visualization aims to identify any potential correlations between Apple’s stock price trends and the unemployment rate, helping to analyze how economic factors impact financial markets."
   ]
  },
  {
   "cell_type": "code",
   "execution_count": 23,
   "id": "b724f88b-14bf-4e65-b1c8-1dd58458e3bc",
   "metadata": {},
   "outputs": [
    {
     "name": "stderr",
     "output_type": "stream",
     "text": [
      "[*********************100%***********************]  1 of 1 completed\n"
     ]
    },
    {
     "name": "stdout",
     "output_type": "stream",
     "text": [
      "Error fetching data from Quandl: (Status 410) Something went wrong. Please try again. If you continue to have problems, please contact us at connect@quandl.com.\n",
      "Apple Stock Data:\n",
      "Price                       Date  Adj Close      Close       High        Low  \\\n",
      "Ticker                                 AAPL       AAPL       AAPL       AAPL   \n",
      "0      2020-01-02 00:00:00+00:00  72.876106  75.087502  75.150002  73.797501   \n",
      "1      2020-01-03 00:00:00+00:00  72.167610  74.357498  75.144997  74.125000   \n",
      "2      2020-01-06 00:00:00+00:00  72.742645  74.949997  74.989998  73.187500   \n",
      "3      2020-01-07 00:00:00+00:00  72.400528  74.597504  75.224998  74.370003   \n",
      "4      2020-01-08 00:00:00+00:00  73.565201  75.797501  76.110001  74.290001   \n",
      "\n",
      "Price        Open     Volume  \n",
      "Ticker       AAPL       AAPL  \n",
      "0       74.059998  135480400  \n",
      "1       74.287498  146322800  \n",
      "2       73.447502  118387200  \n",
      "3       74.959999  108872000  \n",
      "4       74.290001  132079200  \n",
      "Quandl AAPL Data:\n",
      "Empty DataFrame\n",
      "Columns: []\n",
      "Index: []\n",
      "Unemployment Rate Data:\n",
      "1948-01-01    3.4\n",
      "1948-02-01    3.8\n",
      "1948-03-01    4.0\n",
      "1948-04-01    3.9\n",
      "1948-05-01    3.5\n",
      "dtype: float64\n"
     ]
    },
    {
     "data": {
      "image/png": "[encoded data removed]",
      "text/plain": [
       "<Figure size 1400x700 with 1 Axes>"
      ]
     },
     "metadata": {},
     "output_type": "display_data"
    }
   ],
   "source": [
    "\n",
    "# Data Visualization Function\n",
    "def plot_data(stock_data, unemployment_data):\n",
    "    plt.figure(figsize=(14, 7))\n",
    "    plt.plot(stock_data['Date'], stock_data['Adj Close'], label='AAPL Adjusted Close', color='blue')\n",
    "    plt.plot(unemployment_data.index, unemployment_data, label='Unemployment Rate', color='red')\n",
    "    plt.title('Apple Stock Prices and Unemployment Rate')\n",
    "    plt.xlabel('Date')\n",
    "    plt.ylabel('Value')\n",
    "    plt.legend()\n",
    "    plt.show()\n",
    "\n",
    "# Main execution\n",
    "if __name__ == \"__main__\":\n",
    "    stock_data = fetch_yahoo_finance_data(\"AAPL\", \"2020-01-01\", \"2023-01-01\")\n",
    "    quandl_data = fetch_quandl_data(\"EOD/AAPL\")\n",
    "    unemployment_rate = fetch_fred_data(\"UNRATE\", \"2020-01-01\", \"2023-01-01\")\n",
    "\n",
    "    # Display data\n",
    "    print(\"Apple Stock Data:\")\n",
    "    print(stock_data.head())\n",
    "    \n",
    "    print(\"Quandl AAPL Data:\")\n",
    "    print(quandl_data.head())\n",
    "    \n",
    "    print(\"Unemployment Rate Data:\")\n",
    "    print(unemployment_rate.head())\n",
    "\n",
    "    # Plot data\n",
    "    plot_data(stock_data, unemployment_rate.to_frame(name='Unemployment Rate'))"
   ]
  },
  {
   "cell_type": "markdown",
   "id": "9ff2b05b-a089-469d-ab01-7829d9a4895c",
   "metadata": {},
   "source": [
    "### Plot Description\n",
    "- The **x-axis** represents the timeline from January 1, 2020, to January 1, 2023.\n",
    "- The **y-axis** shows the values for both the adjusted closing price and the unemployment rate.\n",
    "- The plot includes:\n",
    "  - A **blue line** representing Apple’s adjusted closing prices, allowing viewers to observe the stock's performance fluctuations.\n",
    "  - A **red line** indicating the unemployment rate, providing context on economic conditions during the same period."
   ]
  },
  {
   "cell_type": "markdown",
   "id": "a942450f-9001-4ce7-8755-17b6642d755e",
   "metadata": {},
   "source": [
    "**The graph plots the Apple stock price (AAPL Adjusted Close) and the Unemployment Rate over a period from approximately 1950 to 2023. The x-axis represents time, and the y-axis shows the values for both variables.**\n",
    "\n",
    "**Key Observations**\n",
    "\n",
    "Apple Stock Price (AAPL Adjusted Close):\n",
    "\n",
    "The stock price shows a significant upward trend over the years, especially from the late 1990s onwards. This aligns with Apple's period of rapid growth and innovation.\n",
    "There are periods of volatility, particularly during the 2000 dot-com bubble and the 2008 financial crisis, where the stock price experienced declines.\n",
    "Overall, the long-term trend is positive, reflecting Apple's success as a technology company.\n",
    "Unemployment Rate:\n",
    "\n",
    "The unemployment rate fluctuates over time, with peaks during recessions and troughs during periods of economic expansion.\n",
    "There is a general downward trend in the unemployment rate over the long term, suggesting overall economic growth.\n",
    "The most recent data point (2023) shows a relatively low unemployment rate.\n",
    "Relationship between the two variables:\n",
    "\n",
    "While there might be some correlation between the two variables at certain points, it's important to note that:\n",
    "\n",
    "The stock market is influenced by various factors, including company performance, industry trends, economic conditions, and investor sentiment.   \n",
    "Unemployment is a broader macroeconomic indicator that reflects the overall health of the labor market.\n",
    "Therefore, it's not straightforward to draw a direct causal relationship between the two variables.\n",
    "\n",
    "**Additional Insights:**\n",
    "\n",
    "The graph could be further analysed to identify specific periods of correlation or divergence between the two variables.\n",
    "It would be interesting to compare the trends with other economic indicators or industry-specific data to gain a more comprehensive understanding.\n",
    "Limitations:\n",
    "\n",
    "The graph only shows historical data, and it's important to consider that future trends may not follow the same patterns.\n",
    "The unemployment rate is a national average, and regional or industry-specific unemployment rates may vary."
   ]
  },
  {
   "cell_type": "code",
   "execution_count": 26,
   "id": "d7c65d86-6b16-48c9-99a5-4ff5cac96f08",
   "metadata": {},
   "outputs": [],
   "source": [
    "# Function to save DataFrames to CSV\n",
    "def save_to_csv(dataframe, filename):\n",
    "    dataframe.to_csv(filename, index=False)\n",
    "    print(f\"Data saved to {filename}\")"
   ]
  },
  {
   "cell_type": "code",
   "execution_count": 30,
   "id": "ffb8d1f8-c7a2-4fb1-b36b-7e0573a4ab1e",
   "metadata": {},
   "outputs": [
    {
     "name": "stdout",
     "output_type": "stream",
     "text": [
      "Data saved to apple_stock_data.csv\n",
      "Data saved to quandl_aapl_data.csv\n",
      "Data saved to unemployment_rate.csv\n"
     ]
    }
   ],
   "source": [
    "# Save data to CSV\n",
    "save_to_csv(stock_data, 'apple_stock_data.csv')\n",
    "save_to_csv(quandl_data, 'quandl_aapl_data.csv')\n",
    "save_to_csv(unemployment_rate.to_frame(name='Unemployment Rate'), 'unemployment_rate.csv')"
   ]
  },
  {
   "cell_type": "markdown",
   "id": "7f712865-2590-4ff6-bc73-d85424b12ba2",
   "metadata": {},
   "source": [
    "\n",
    "## Conclusion\n",
    "\n",
    "This project not only provides a detailed view of **Apple Inc.'s** stock performance but also connects it to broader economic indicators, showcasing the interplay between individual companies and macroeconomic trends. The methodology includes robust data sourcing, processing, and visualization techniques, paving the way for further analysis and exploration, such as statistical modeling or predictive analytics based on the gathered datasets. This approach can be expanded to include additional economic indicators, creating a comprehensive financial analysis tool.\n"
   ]
  }
 ],
 "metadata": {
  "kernelspec": {
   "display_name": "Python 3 (ipykernel)",
   "language": "python",
   "name": "python3"
  },
  "language_info": {
   "codemirror_mode": {
    "name": "ipython",
    "version": 3
   },
   "file_extension": ".py",
   "mimetype": "text/x-python",
   "name": "python",
   "nbconvert_exporter": "python",
   "pygments_lexer": "ipython3",
   "version": "3.12.4"
  }
 },
 "nbformat": 4,
 "nbformat_minor": 5
}
